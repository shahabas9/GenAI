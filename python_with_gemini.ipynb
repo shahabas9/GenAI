{
  "nbformat": 4,
  "nbformat_minor": 0,
  "metadata": {
    "colab": {
      "provenance": []
    },
    "kernelspec": {
      "name": "python3",
      "display_name": "Python 3"
    },
    "language_info": {
      "name": "python"
    }
  },
  "cells": [
    {
      "cell_type": "code",
      "execution_count": 1,
      "metadata": {
        "id": "MKr24PmDHOeE"
      },
      "outputs": [],
      "source": [
        "!pip install -q -U google-generativeai"
      ]
    },
    {
      "cell_type": "code",
      "source": [
        "import google.generativeai as genai\n",
        "import textwrap\n",
        "from IPython.display import Markdown\n",
        "from IPython.display import display\n",
        "import pathlib"
      ],
      "metadata": {
        "id": "pINEYSnII0-r"
      },
      "execution_count": 1,
      "outputs": []
    },
    {
      "cell_type": "code",
      "source": [
        "def to_markdown(text):\n",
        "  text =text.replace(\".\",\"*\")\n",
        "  return Markdown(textwrap.indent(text,'> ',predicate=lambda _:True))\n",
        "\n",
        "text = \"this is a sample . text with bullet points.\"\n",
        "result=to_markdown(text)\n",
        "display(result)"
      ],
      "metadata": {
        "colab": {
          "base_uri": "https://localhost:8080/",
          "height": 62
        },
        "id": "Zo299s1UJQvM",
        "outputId": "e70bc524-1a6a-4590-f2a4-5112977e7953"
      },
      "execution_count": 2,
      "outputs": [
        {
          "output_type": "display_data",
          "data": {
            "text/plain": [
              "<IPython.core.display.Markdown object>"
            ],
            "text/markdown": "> this is a sample * text with bullet points*"
          },
          "metadata": {}
        }
      ]
    },
    {
      "cell_type": "code",
      "source": [
        "from google.colab import userdata\n",
        "google_api_key = userdata.get('GOOGLR_API_KEY')"
      ],
      "metadata": {
        "id": "mu7n3inaKb1V"
      },
      "execution_count": 3,
      "outputs": []
    },
    {
      "cell_type": "code",
      "source": [
        "genai.configure(api_key=google_api_key)"
      ],
      "metadata": {
        "id": "kclBnSi9K8sc"
      },
      "execution_count": 4,
      "outputs": []
    },
    {
      "cell_type": "code",
      "source": [
        "for models in genai.list_models():\n",
        "  print(models)"
      ],
      "metadata": {
        "colab": {
          "base_uri": "https://localhost:8080/",
          "height": 1000
        },
        "collapsed": true,
        "id": "tUR5zbyNLLD9",
        "outputId": "0008d612-a258-49f8-d304-5e29101deb3d"
      },
      "execution_count": 5,
      "outputs": [
        {
          "output_type": "stream",
          "name": "stdout",
          "text": [
            "Model(name='models/embedding-gecko-001',\n",
            "      base_model_id='',\n",
            "      version='001',\n",
            "      display_name='Embedding Gecko',\n",
            "      description='Obtain a distributed representation of a text.',\n",
            "      input_token_limit=1024,\n",
            "      output_token_limit=1,\n",
            "      supported_generation_methods=['embedText', 'countTextTokens'],\n",
            "      temperature=None,\n",
            "      max_temperature=None,\n",
            "      top_p=None,\n",
            "      top_k=None)\n",
            "Model(name='models/gemini-1.0-pro-vision-latest',\n",
            "      base_model_id='',\n",
            "      version='001',\n",
            "      display_name='Gemini 1.0 Pro Vision',\n",
            "      description=('The original Gemini 1.0 Pro Vision model version which was optimized for '\n",
            "                   'image understanding. Gemini 1.0 Pro Vision was deprecated on July 12, 2024. '\n",
            "                   'Move to a newer Gemini version.'),\n",
            "      input_token_limit=12288,\n",
            "      output_token_limit=4096,\n",
            "      supported_generation_methods=['generateContent', 'countTokens'],\n",
            "      temperature=0.4,\n",
            "      max_temperature=None,\n",
            "      top_p=1.0,\n",
            "      top_k=32)\n",
            "Model(name='models/gemini-pro-vision',\n",
            "      base_model_id='',\n",
            "      version='001',\n",
            "      display_name='Gemini 1.0 Pro Vision',\n",
            "      description=('The original Gemini 1.0 Pro Vision model version which was optimized for '\n",
            "                   'image understanding. Gemini 1.0 Pro Vision was deprecated on July 12, 2024. '\n",
            "                   'Move to a newer Gemini version.'),\n",
            "      input_token_limit=12288,\n",
            "      output_token_limit=4096,\n",
            "      supported_generation_methods=['generateContent', 'countTokens'],\n",
            "      temperature=0.4,\n",
            "      max_temperature=None,\n",
            "      top_p=1.0,\n",
            "      top_k=32)\n",
            "Model(name='models/gemini-1.5-pro-latest',\n",
            "      base_model_id='',\n",
            "      version='001',\n",
            "      display_name='Gemini 1.5 Pro Latest',\n",
            "      description=('Alias that points to the most recent production (non-experimental) release '\n",
            "                   'of Gemini 1.5 Pro, our mid-size multimodal model that supports up to 2 '\n",
            "                   'million tokens.'),\n",
            "      input_token_limit=2000000,\n",
            "      output_token_limit=8192,\n",
            "      supported_generation_methods=['generateContent', 'countTokens'],\n",
            "      temperature=1.0,\n",
            "      max_temperature=2.0,\n",
            "      top_p=0.95,\n",
            "      top_k=40)\n",
            "Model(name='models/gemini-1.5-pro-002',\n",
            "      base_model_id='',\n",
            "      version='002',\n",
            "      display_name='Gemini 1.5 Pro 002',\n",
            "      description=('Stable version of Gemini 1.5 Pro, our mid-size multimodal model that '\n",
            "                   'supports up to 2 million tokens, released in September of 2024.'),\n",
            "      input_token_limit=2000000,\n",
            "      output_token_limit=8192,\n",
            "      supported_generation_methods=['generateContent', 'countTokens', 'createCachedContent'],\n",
            "      temperature=1.0,\n",
            "      max_temperature=2.0,\n",
            "      top_p=0.95,\n",
            "      top_k=40)\n",
            "Model(name='models/gemini-1.5-pro',\n",
            "      base_model_id='',\n",
            "      version='001',\n",
            "      display_name='Gemini 1.5 Pro',\n",
            "      description=('Stable version of Gemini 1.5 Pro, our mid-size multimodal model that '\n",
            "                   'supports up to 2 million tokens, released in May of 2024.'),\n",
            "      input_token_limit=2000000,\n",
            "      output_token_limit=8192,\n",
            "      supported_generation_methods=['generateContent', 'countTokens'],\n",
            "      temperature=1.0,\n",
            "      max_temperature=2.0,\n",
            "      top_p=0.95,\n",
            "      top_k=40)\n",
            "Model(name='models/gemini-1.5-flash-latest',\n",
            "      base_model_id='',\n",
            "      version='001',\n",
            "      display_name='Gemini 1.5 Flash Latest',\n",
            "      description=('Alias that points to the most recent production (non-experimental) release '\n",
            "                   'of Gemini 1.5 Flash, our fast and versatile multimodal model for scaling '\n",
            "                   'across diverse tasks.'),\n",
            "      input_token_limit=1000000,\n",
            "      output_token_limit=8192,\n",
            "      supported_generation_methods=['generateContent', 'countTokens'],\n",
            "      temperature=1.0,\n",
            "      max_temperature=2.0,\n",
            "      top_p=0.95,\n",
            "      top_k=40)\n",
            "Model(name='models/gemini-1.5-flash',\n",
            "      base_model_id='',\n",
            "      version='001',\n",
            "      display_name='Gemini 1.5 Flash',\n",
            "      description=('Alias that points to the most recent stable version of Gemini 1.5 Flash, our '\n",
            "                   'fast and versatile multimodal model for scaling across diverse tasks.'),\n",
            "      input_token_limit=1000000,\n",
            "      output_token_limit=8192,\n",
            "      supported_generation_methods=['generateContent', 'countTokens'],\n",
            "      temperature=1.0,\n",
            "      max_temperature=2.0,\n",
            "      top_p=0.95,\n",
            "      top_k=40)\n",
            "Model(name='models/gemini-1.5-flash-002',\n",
            "      base_model_id='',\n",
            "      version='002',\n",
            "      display_name='Gemini 1.5 Flash 002',\n",
            "      description=('Stable version of Gemini 1.5 Flash, our fast and versatile multimodal model '\n",
            "                   'for scaling across diverse tasks, released in September of 2024.'),\n",
            "      input_token_limit=1000000,\n",
            "      output_token_limit=8192,\n",
            "      supported_generation_methods=['generateContent', 'countTokens', 'createCachedContent'],\n",
            "      temperature=1.0,\n",
            "      max_temperature=2.0,\n",
            "      top_p=0.95,\n",
            "      top_k=40)\n",
            "Model(name='models/gemini-1.5-flash-8b',\n",
            "      base_model_id='',\n",
            "      version='001',\n",
            "      display_name='Gemini 1.5 Flash-8B',\n",
            "      description=('Stable version of Gemini 1.5 Flash-8B, our smallest and most cost effective '\n",
            "                   'Flash model, released in October of 2024.'),\n",
            "      input_token_limit=1000000,\n",
            "      output_token_limit=8192,\n",
            "      supported_generation_methods=['createCachedContent', 'generateContent', 'countTokens'],\n",
            "      temperature=1.0,\n",
            "      max_temperature=2.0,\n",
            "      top_p=0.95,\n",
            "      top_k=40)\n",
            "Model(name='models/gemini-1.5-flash-8b-001',\n",
            "      base_model_id='',\n",
            "      version='001',\n",
            "      display_name='Gemini 1.5 Flash-8B 001',\n",
            "      description=('Stable version of Gemini 1.5 Flash-8B, our smallest and most cost effective '\n",
            "                   'Flash model, released in October of 2024.'),\n",
            "      input_token_limit=1000000,\n",
            "      output_token_limit=8192,\n",
            "      supported_generation_methods=['createCachedContent', 'generateContent', 'countTokens'],\n",
            "      temperature=1.0,\n",
            "      max_temperature=2.0,\n",
            "      top_p=0.95,\n",
            "      top_k=40)\n",
            "Model(name='models/gemini-1.5-flash-8b-latest',\n",
            "      base_model_id='',\n",
            "      version='001',\n",
            "      display_name='Gemini 1.5 Flash-8B Latest',\n",
            "      description=('Alias that points to the most recent production (non-experimental) release '\n",
            "                   'of Gemini 1.5 Flash-8B, our smallest and most cost effective Flash model, '\n",
            "                   'released in October of 2024.'),\n",
            "      input_token_limit=1000000,\n",
            "      output_token_limit=8192,\n",
            "      supported_generation_methods=['createCachedContent', 'generateContent', 'countTokens'],\n",
            "      temperature=1.0,\n",
            "      max_temperature=2.0,\n",
            "      top_p=0.95,\n",
            "      top_k=40)\n",
            "Model(name='models/gemini-2.5-pro-exp-03-25',\n",
            "      base_model_id='',\n",
            "      version='2.5-exp-03-25',\n",
            "      display_name='Gemini 2.5 Pro Experimental 03-25',\n",
            "      description='Experimental release (March 25th, 2025) of Gemini 2.5 Pro',\n",
            "      input_token_limit=1048576,\n",
            "      output_token_limit=65536,\n",
            "      supported_generation_methods=['generateContent',\n",
            "                                    'countTokens',\n",
            "                                    'createCachedContent',\n",
            "                                    'batchGenerateContent'],\n",
            "      temperature=1.0,\n",
            "      max_temperature=2.0,\n",
            "      top_p=0.95,\n",
            "      top_k=64)\n",
            "Model(name='models/gemini-2.5-pro-preview-03-25',\n",
            "      base_model_id='',\n",
            "      version='2.5-preview-03-25',\n",
            "      display_name='Gemini 2.5 Pro Preview 03-25',\n",
            "      description='Gemini 2.5 Pro Preview 03-25',\n",
            "      input_token_limit=1048576,\n",
            "      output_token_limit=65536,\n",
            "      supported_generation_methods=['generateContent',\n",
            "                                    'countTokens',\n",
            "                                    'createCachedContent',\n",
            "                                    'batchGenerateContent'],\n",
            "      temperature=1.0,\n",
            "      max_temperature=2.0,\n",
            "      top_p=0.95,\n",
            "      top_k=64)\n",
            "Model(name='models/gemini-2.5-flash-preview-04-17',\n",
            "      base_model_id='',\n",
            "      version='2.5-preview-04-17',\n",
            "      display_name='Gemini 2.5 Flash Preview 04-17',\n",
            "      description='Preview release (April 17th, 2025) of Gemini 2.5 Flash',\n",
            "      input_token_limit=1048576,\n",
            "      output_token_limit=65536,\n",
            "      supported_generation_methods=['generateContent',\n",
            "                                    'countTokens',\n",
            "                                    'createCachedContent',\n",
            "                                    'batchGenerateContent'],\n",
            "      temperature=1.0,\n",
            "      max_temperature=2.0,\n",
            "      top_p=0.95,\n",
            "      top_k=64)\n",
            "Model(name='models/gemini-2.5-flash-preview-05-20',\n",
            "      base_model_id='',\n",
            "      version='2.5-preview-05-20',\n",
            "      display_name='Gemini 2.5 Flash Preview 05-20',\n",
            "      description='Preview release (April 17th, 2025) of Gemini 2.5 Flash',\n",
            "      input_token_limit=1048576,\n",
            "      output_token_limit=65536,\n",
            "      supported_generation_methods=['generateContent',\n",
            "                                    'countTokens',\n",
            "                                    'createCachedContent',\n",
            "                                    'batchGenerateContent'],\n",
            "      temperature=1.0,\n",
            "      max_temperature=2.0,\n",
            "      top_p=0.95,\n",
            "      top_k=64)\n",
            "Model(name='models/gemini-2.5-flash-preview-04-17-thinking',\n",
            "      base_model_id='',\n",
            "      version='2.5-preview-04-17',\n",
            "      display_name='Gemini 2.5 Flash Preview 04-17 for cursor testing',\n",
            "      description='Preview release (April 17th, 2025) of Gemini 2.5 Flash',\n",
            "      input_token_limit=1048576,\n",
            "      output_token_limit=65536,\n",
            "      supported_generation_methods=['generateContent',\n",
            "                                    'countTokens',\n",
            "                                    'createCachedContent',\n",
            "                                    'batchGenerateContent'],\n",
            "      temperature=1.0,\n",
            "      max_temperature=2.0,\n",
            "      top_p=0.95,\n",
            "      top_k=64)\n",
            "Model(name='models/gemini-2.5-pro-preview-05-06',\n",
            "      base_model_id='',\n",
            "      version='2.5-preview-05-06',\n",
            "      display_name='Gemini 2.5 Pro Preview 05-06',\n",
            "      description='Preview release (May 6th, 2025) of Gemini 2.5 Pro',\n",
            "      input_token_limit=1048576,\n",
            "      output_token_limit=65536,\n",
            "      supported_generation_methods=['generateContent',\n",
            "                                    'countTokens',\n",
            "                                    'createCachedContent',\n",
            "                                    'batchGenerateContent'],\n",
            "      temperature=1.0,\n",
            "      max_temperature=2.0,\n",
            "      top_p=0.95,\n",
            "      top_k=64)\n",
            "Model(name='models/gemini-2.5-pro-preview-06-05',\n",
            "      base_model_id='',\n",
            "      version='2.5-preview-06-05',\n",
            "      display_name='Gemini 2.5 Pro Preview',\n",
            "      description='Preview release (June 5th, 2025) of Gemini 2.5 Pro',\n",
            "      input_token_limit=1048576,\n",
            "      output_token_limit=65536,\n",
            "      supported_generation_methods=['generateContent',\n",
            "                                    'countTokens',\n",
            "                                    'createCachedContent',\n",
            "                                    'batchGenerateContent'],\n",
            "      temperature=1.0,\n",
            "      max_temperature=2.0,\n",
            "      top_p=0.95,\n",
            "      top_k=64)\n",
            "Model(name='models/gemini-2.0-flash-exp',\n",
            "      base_model_id='',\n",
            "      version='2.0',\n",
            "      display_name='Gemini 2.0 Flash Experimental',\n",
            "      description='Gemini 2.0 Flash Experimental',\n",
            "      input_token_limit=1048576,\n",
            "      output_token_limit=8192,\n",
            "      supported_generation_methods=['generateContent', 'countTokens', 'bidiGenerateContent'],\n",
            "      temperature=1.0,\n",
            "      max_temperature=2.0,\n",
            "      top_p=0.95,\n",
            "      top_k=40)\n",
            "Model(name='models/gemini-2.0-flash',\n",
            "      base_model_id='',\n",
            "      version='2.0',\n",
            "      display_name='Gemini 2.0 Flash',\n",
            "      description='Gemini 2.0 Flash',\n",
            "      input_token_limit=1048576,\n",
            "      output_token_limit=8192,\n",
            "      supported_generation_methods=['generateContent',\n",
            "                                    'countTokens',\n",
            "                                    'createCachedContent',\n",
            "                                    'batchGenerateContent'],\n",
            "      temperature=1.0,\n",
            "      max_temperature=2.0,\n",
            "      top_p=0.95,\n",
            "      top_k=40)\n",
            "Model(name='models/gemini-2.0-flash-001',\n",
            "      base_model_id='',\n",
            "      version='2.0',\n",
            "      display_name='Gemini 2.0 Flash 001',\n",
            "      description=('Stable version of Gemini 2.0 Flash, our fast and versatile multimodal model '\n",
            "                   'for scaling across diverse tasks, released in January of 2025.'),\n",
            "      input_token_limit=1048576,\n",
            "      output_token_limit=8192,\n",
            "      supported_generation_methods=['generateContent',\n",
            "                                    'countTokens',\n",
            "                                    'createCachedContent',\n",
            "                                    'batchGenerateContent'],\n",
            "      temperature=1.0,\n",
            "      max_temperature=2.0,\n",
            "      top_p=0.95,\n",
            "      top_k=40)\n",
            "Model(name='models/gemini-2.0-flash-exp-image-generation',\n",
            "      base_model_id='',\n",
            "      version='2.0',\n",
            "      display_name='Gemini 2.0 Flash (Image Generation) Experimental',\n",
            "      description='Gemini 2.0 Flash (Image Generation) Experimental',\n",
            "      input_token_limit=1048576,\n",
            "      output_token_limit=8192,\n",
            "      supported_generation_methods=['generateContent', 'countTokens', 'bidiGenerateContent'],\n",
            "      temperature=1.0,\n",
            "      max_temperature=2.0,\n",
            "      top_p=0.95,\n",
            "      top_k=40)\n",
            "Model(name='models/gemini-2.0-flash-lite-001',\n",
            "      base_model_id='',\n",
            "      version='2.0',\n",
            "      display_name='Gemini 2.0 Flash-Lite 001',\n",
            "      description='Stable version of Gemini 2.0 Flash Lite',\n",
            "      input_token_limit=1048576,\n",
            "      output_token_limit=8192,\n",
            "      supported_generation_methods=['generateContent',\n",
            "                                    'countTokens',\n",
            "                                    'createCachedContent',\n",
            "                                    'batchGenerateContent'],\n",
            "      temperature=1.0,\n",
            "      max_temperature=2.0,\n",
            "      top_p=0.95,\n",
            "      top_k=40)\n",
            "Model(name='models/gemini-2.0-flash-lite',\n",
            "      base_model_id='',\n",
            "      version='2.0',\n",
            "      display_name='Gemini 2.0 Flash-Lite',\n",
            "      description='Gemini 2.0 Flash-Lite',\n",
            "      input_token_limit=1048576,\n",
            "      output_token_limit=8192,\n",
            "      supported_generation_methods=['generateContent',\n",
            "                                    'countTokens',\n",
            "                                    'createCachedContent',\n",
            "                                    'batchGenerateContent'],\n",
            "      temperature=1.0,\n",
            "      max_temperature=2.0,\n",
            "      top_p=0.95,\n",
            "      top_k=40)\n",
            "Model(name='models/gemini-2.0-flash-preview-image-generation',\n",
            "      base_model_id='',\n",
            "      version='2.0',\n",
            "      display_name='Gemini 2.0 Flash Preview Image Generation',\n",
            "      description='Gemini 2.0 Flash Preview Image Generation',\n",
            "      input_token_limit=32768,\n",
            "      output_token_limit=8192,\n",
            "      supported_generation_methods=['generateContent', 'countTokens'],\n",
            "      temperature=1.0,\n",
            "      max_temperature=2.0,\n",
            "      top_p=0.95,\n",
            "      top_k=64)\n",
            "Model(name='models/gemini-2.0-flash-lite-preview-02-05',\n",
            "      base_model_id='',\n",
            "      version='preview-02-05',\n",
            "      display_name='Gemini 2.0 Flash-Lite Preview 02-05',\n",
            "      description='Preview release (February 5th, 2025) of Gemini 2.0 Flash Lite',\n",
            "      input_token_limit=1048576,\n",
            "      output_token_limit=8192,\n",
            "      supported_generation_methods=['generateContent',\n",
            "                                    'countTokens',\n",
            "                                    'createCachedContent',\n",
            "                                    'batchGenerateContent'],\n",
            "      temperature=1.0,\n",
            "      max_temperature=2.0,\n",
            "      top_p=0.95,\n",
            "      top_k=40)\n",
            "Model(name='models/gemini-2.0-flash-lite-preview',\n",
            "      base_model_id='',\n",
            "      version='preview-02-05',\n",
            "      display_name='Gemini 2.0 Flash-Lite Preview',\n",
            "      description='Preview release (February 5th, 2025) of Gemini 2.0 Flash Lite',\n",
            "      input_token_limit=1048576,\n",
            "      output_token_limit=8192,\n",
            "      supported_generation_methods=['generateContent',\n",
            "                                    'countTokens',\n",
            "                                    'createCachedContent',\n",
            "                                    'batchGenerateContent'],\n",
            "      temperature=1.0,\n",
            "      max_temperature=2.0,\n",
            "      top_p=0.95,\n",
            "      top_k=40)\n",
            "Model(name='models/gemini-2.0-pro-exp',\n",
            "      base_model_id='',\n",
            "      version='2.5-exp-03-25',\n",
            "      display_name='Gemini 2.0 Pro Experimental',\n",
            "      description='Experimental release (March 25th, 2025) of Gemini 2.5 Pro',\n",
            "      input_token_limit=1048576,\n",
            "      output_token_limit=65536,\n",
            "      supported_generation_methods=['generateContent',\n",
            "                                    'countTokens',\n",
            "                                    'createCachedContent',\n",
            "                                    'batchGenerateContent'],\n",
            "      temperature=1.0,\n",
            "      max_temperature=2.0,\n",
            "      top_p=0.95,\n",
            "      top_k=64)\n",
            "Model(name='models/gemini-2.0-pro-exp-02-05',\n",
            "      base_model_id='',\n",
            "      version='2.5-exp-03-25',\n",
            "      display_name='Gemini 2.0 Pro Experimental 02-05',\n",
            "      description='Experimental release (March 25th, 2025) of Gemini 2.5 Pro',\n",
            "      input_token_limit=1048576,\n",
            "      output_token_limit=65536,\n",
            "      supported_generation_methods=['generateContent',\n",
            "                                    'countTokens',\n",
            "                                    'createCachedContent',\n",
            "                                    'batchGenerateContent'],\n",
            "      temperature=1.0,\n",
            "      max_temperature=2.0,\n",
            "      top_p=0.95,\n",
            "      top_k=64)\n",
            "Model(name='models/gemini-exp-1206',\n",
            "      base_model_id='',\n",
            "      version='2.5-exp-03-25',\n",
            "      display_name='Gemini Experimental 1206',\n",
            "      description='Experimental release (March 25th, 2025) of Gemini 2.5 Pro',\n",
            "      input_token_limit=1048576,\n",
            "      output_token_limit=65536,\n",
            "      supported_generation_methods=['generateContent',\n",
            "                                    'countTokens',\n",
            "                                    'createCachedContent',\n",
            "                                    'batchGenerateContent'],\n",
            "      temperature=1.0,\n",
            "      max_temperature=2.0,\n",
            "      top_p=0.95,\n",
            "      top_k=64)\n",
            "Model(name='models/gemini-2.0-flash-thinking-exp-01-21',\n",
            "      base_model_id='',\n",
            "      version='2.5-preview-04-17',\n",
            "      display_name='Gemini 2.5 Flash Preview 04-17',\n",
            "      description='Preview release (April 17th, 2025) of Gemini 2.5 Flash',\n",
            "      input_token_limit=1048576,\n",
            "      output_token_limit=65536,\n",
            "      supported_generation_methods=['generateContent',\n",
            "                                    'countTokens',\n",
            "                                    'createCachedContent',\n",
            "                                    'batchGenerateContent'],\n",
            "      temperature=1.0,\n",
            "      max_temperature=2.0,\n",
            "      top_p=0.95,\n",
            "      top_k=64)\n",
            "Model(name='models/gemini-2.0-flash-thinking-exp',\n",
            "      base_model_id='',\n",
            "      version='2.5-preview-04-17',\n",
            "      display_name='Gemini 2.5 Flash Preview 04-17',\n",
            "      description='Preview release (April 17th, 2025) of Gemini 2.5 Flash',\n",
            "      input_token_limit=1048576,\n",
            "      output_token_limit=65536,\n",
            "      supported_generation_methods=['generateContent',\n",
            "                                    'countTokens',\n",
            "                                    'createCachedContent',\n",
            "                                    'batchGenerateContent'],\n",
            "      temperature=1.0,\n",
            "      max_temperature=2.0,\n",
            "      top_p=0.95,\n",
            "      top_k=64)\n",
            "Model(name='models/gemini-2.0-flash-thinking-exp-1219',\n",
            "      base_model_id='',\n",
            "      version='2.5-preview-04-17',\n",
            "      display_name='Gemini 2.5 Flash Preview 04-17',\n",
            "      description='Preview release (April 17th, 2025) of Gemini 2.5 Flash',\n",
            "      input_token_limit=1048576,\n",
            "      output_token_limit=65536,\n",
            "      supported_generation_methods=['generateContent',\n",
            "                                    'countTokens',\n",
            "                                    'createCachedContent',\n",
            "                                    'batchGenerateContent'],\n",
            "      temperature=1.0,\n",
            "      max_temperature=2.0,\n",
            "      top_p=0.95,\n",
            "      top_k=64)\n",
            "Model(name='models/gemini-2.5-flash-preview-tts',\n",
            "      base_model_id='',\n",
            "      version='gemini-2.5-flash-exp-tts-2025-05-19',\n",
            "      display_name='Gemini 2.5 Flash Preview TTS',\n",
            "      description='Gemini 2.5 Flash Preview TTS',\n",
            "      input_token_limit=8192,\n",
            "      output_token_limit=16384,\n",
            "      supported_generation_methods=['countTokens', 'generateContent'],\n",
            "      temperature=1.0,\n",
            "      max_temperature=2.0,\n",
            "      top_p=0.95,\n",
            "      top_k=64)\n",
            "Model(name='models/gemini-2.5-pro-preview-tts',\n",
            "      base_model_id='',\n",
            "      version='gemini-2.5-pro-preview-tts-2025-05-19',\n",
            "      display_name='Gemini 2.5 Pro Preview TTS',\n",
            "      description='Gemini 2.5 Pro Preview TTS',\n",
            "      input_token_limit=8192,\n",
            "      output_token_limit=16384,\n",
            "      supported_generation_methods=['countTokens', 'generateContent'],\n",
            "      temperature=1.0,\n",
            "      max_temperature=2.0,\n",
            "      top_p=0.95,\n",
            "      top_k=64)\n",
            "Model(name='models/learnlm-2.0-flash-experimental',\n",
            "      base_model_id='',\n",
            "      version='2.0',\n",
            "      display_name='LearnLM 2.0 Flash Experimental',\n",
            "      description='LearnLM 2.0 Flash Experimental',\n",
            "      input_token_limit=1048576,\n",
            "      output_token_limit=32768,\n",
            "      supported_generation_methods=['generateContent', 'countTokens'],\n",
            "      temperature=1.0,\n",
            "      max_temperature=2.0,\n",
            "      top_p=0.95,\n",
            "      top_k=64)\n",
            "Model(name='models/gemma-3-1b-it',\n",
            "      base_model_id='',\n",
            "      version='001',\n",
            "      display_name='Gemma 3 1B',\n",
            "      description='',\n",
            "      input_token_limit=32768,\n",
            "      output_token_limit=8192,\n",
            "      supported_generation_methods=['generateContent', 'countTokens'],\n",
            "      temperature=1.0,\n",
            "      max_temperature=None,\n",
            "      top_p=0.95,\n",
            "      top_k=64)\n",
            "Model(name='models/gemma-3-4b-it',\n",
            "      base_model_id='',\n",
            "      version='001',\n",
            "      display_name='Gemma 3 4B',\n",
            "      description='',\n",
            "      input_token_limit=32768,\n",
            "      output_token_limit=8192,\n",
            "      supported_generation_methods=['generateContent', 'countTokens'],\n",
            "      temperature=1.0,\n",
            "      max_temperature=None,\n",
            "      top_p=0.95,\n",
            "      top_k=64)\n",
            "Model(name='models/gemma-3-12b-it',\n",
            "      base_model_id='',\n",
            "      version='001',\n",
            "      display_name='Gemma 3 12B',\n",
            "      description='',\n",
            "      input_token_limit=32768,\n",
            "      output_token_limit=8192,\n",
            "      supported_generation_methods=['generateContent', 'countTokens'],\n",
            "      temperature=1.0,\n",
            "      max_temperature=None,\n",
            "      top_p=0.95,\n",
            "      top_k=64)\n",
            "Model(name='models/gemma-3-27b-it',\n",
            "      base_model_id='',\n",
            "      version='001',\n",
            "      display_name='Gemma 3 27B',\n",
            "      description='',\n",
            "      input_token_limit=131072,\n",
            "      output_token_limit=8192,\n",
            "      supported_generation_methods=['generateContent', 'countTokens'],\n",
            "      temperature=1.0,\n",
            "      max_temperature=None,\n",
            "      top_p=0.95,\n",
            "      top_k=64)\n",
            "Model(name='models/gemma-3n-e4b-it',\n",
            "      base_model_id='',\n",
            "      version='001',\n",
            "      display_name='Gemma 3n E4B',\n",
            "      description='',\n",
            "      input_token_limit=8192,\n",
            "      output_token_limit=2048,\n",
            "      supported_generation_methods=['generateContent', 'countTokens'],\n",
            "      temperature=1.0,\n",
            "      max_temperature=None,\n",
            "      top_p=0.95,\n",
            "      top_k=64)\n",
            "Model(name='models/embedding-001',\n",
            "      base_model_id='',\n",
            "      version='001',\n",
            "      display_name='Embedding 001',\n",
            "      description='Obtain a distributed representation of a text.',\n",
            "      input_token_limit=2048,\n",
            "      output_token_limit=1,\n",
            "      supported_generation_methods=['embedContent'],\n",
            "      temperature=None,\n",
            "      max_temperature=None,\n",
            "      top_p=None,\n",
            "      top_k=None)\n",
            "Model(name='models/text-embedding-004',\n",
            "      base_model_id='',\n",
            "      version='004',\n",
            "      display_name='Text Embedding 004',\n",
            "      description='Obtain a distributed representation of a text.',\n",
            "      input_token_limit=2048,\n",
            "      output_token_limit=1,\n",
            "      supported_generation_methods=['embedContent'],\n",
            "      temperature=None,\n",
            "      max_temperature=None,\n",
            "      top_p=None,\n",
            "      top_k=None)\n",
            "Model(name='models/gemini-embedding-exp-03-07',\n",
            "      base_model_id='',\n",
            "      version='exp-03-07',\n",
            "      display_name='Gemini Embedding Experimental 03-07',\n",
            "      description='Obtain a distributed representation of a text.',\n",
            "      input_token_limit=8192,\n",
            "      output_token_limit=1,\n",
            "      supported_generation_methods=['embedContent', 'countTextTokens', 'countTokens'],\n",
            "      temperature=None,\n",
            "      max_temperature=None,\n",
            "      top_p=None,\n",
            "      top_k=None)\n",
            "Model(name='models/gemini-embedding-exp',\n",
            "      base_model_id='',\n",
            "      version='exp-03-07',\n",
            "      display_name='Gemini Embedding Experimental',\n",
            "      description='Obtain a distributed representation of a text.',\n",
            "      input_token_limit=8192,\n",
            "      output_token_limit=1,\n",
            "      supported_generation_methods=['embedContent', 'countTextTokens', 'countTokens'],\n",
            "      temperature=None,\n",
            "      max_temperature=None,\n",
            "      top_p=None,\n",
            "      top_k=None)\n",
            "Model(name='models/aqa',\n",
            "      base_model_id='',\n",
            "      version='001',\n",
            "      display_name='Model that performs Attributed Question Answering.',\n",
            "      description=('Model trained to return answers to questions that are grounded in provided '\n",
            "                   'sources, along with estimating answerable probability.'),\n",
            "      input_token_limit=7168,\n",
            "      output_token_limit=1024,\n",
            "      supported_generation_methods=['generateAnswer'],\n",
            "      temperature=0.2,\n",
            "      max_temperature=None,\n",
            "      top_p=1.0,\n",
            "      top_k=40)\n",
            "Model(name='models/imagen-3.0-generate-002',\n",
            "      base_model_id='',\n",
            "      version='002',\n",
            "      display_name='Imagen 3.0 002 model',\n",
            "      description='Vertex served Imagen 3.0 002 model',\n",
            "      input_token_limit=480,\n",
            "      output_token_limit=8192,\n",
            "      supported_generation_methods=['predict'],\n",
            "      temperature=None,\n",
            "      max_temperature=None,\n",
            "      top_p=None,\n",
            "      top_k=None)\n",
            "Model(name='models/veo-2.0-generate-001',\n",
            "      base_model_id='',\n",
            "      version='2.0',\n",
            "      display_name='Veo 2',\n",
            "      description=('Vertex served Veo 2 model. Access to this model requires billing to be '\n",
            "                   'enabled on the associated Google Cloud Platform account. Please visit '\n",
            "                   'https://console.cloud.google.com/billing to enable it.'),\n",
            "      input_token_limit=480,\n",
            "      output_token_limit=8192,\n",
            "      supported_generation_methods=['predictLongRunning'],\n",
            "      temperature=None,\n",
            "      max_temperature=None,\n",
            "      top_p=None,\n",
            "      top_k=None)\n",
            "Model(name='models/gemini-2.5-flash-preview-native-audio-dialog',\n",
            "      base_model_id='',\n",
            "      version='gemini-2.5-flash-preview-native-audio-dialog-2025-05-19',\n",
            "      display_name='Gemini 2.5 Flash Preview Native Audio Dialog',\n",
            "      description='Gemini 2.5 Flash Preview Native Audio Dialog',\n",
            "      input_token_limit=131072,\n",
            "      output_token_limit=8192,\n",
            "      supported_generation_methods=['countTokens', 'bidiGenerateContent'],\n",
            "      temperature=1.0,\n",
            "      max_temperature=2.0,\n",
            "      top_p=0.95,\n",
            "      top_k=64)\n",
            "Model(name='models/gemini-2.5-flash-preview-native-audio-dialog-rai-v3',\n",
            "      base_model_id='',\n",
            "      version='gemini-2.5-flash-preview-native-audio-dialog-2025-05-19',\n",
            "      display_name='Gemini 2.5 Flash Preview Native Audio Dialog RAI v3',\n",
            "      description='Gemini 2.5 Flash Preview Native Audio Dialog RAI v3',\n",
            "      input_token_limit=131072,\n",
            "      output_token_limit=8192,\n",
            "      supported_generation_methods=['countTokens', 'bidiGenerateContent'],\n",
            "      temperature=1.0,\n",
            "      max_temperature=2.0,\n",
            "      top_p=0.95,\n",
            "      top_k=64)\n",
            "Model(name='models/gemini-2.5-flash-exp-native-audio-thinking-dialog',\n",
            "      base_model_id='',\n",
            "      version='gemini-2.5-flash-exp-native-audio-thinking-dialog-2025-05-19',\n",
            "      display_name='Gemini 2.5 Flash Exp Native Audio Thinking Dialog',\n",
            "      description='Gemini 2.5 Flash Exp Native Audio Thinking Dialog',\n",
            "      input_token_limit=131072,\n",
            "      output_token_limit=8192,\n",
            "      supported_generation_methods=['countTokens', 'bidiGenerateContent'],\n",
            "      temperature=1.0,\n",
            "      max_temperature=2.0,\n",
            "      top_p=0.95,\n",
            "      top_k=64)\n",
            "Model(name='models/gemini-2.0-flash-live-001',\n",
            "      base_model_id='',\n",
            "      version='001',\n",
            "      display_name='Gemini 2.0 Flash 001',\n",
            "      description='Gemini 2.0 Flash 001',\n",
            "      input_token_limit=131072,\n",
            "      output_token_limit=8192,\n",
            "      supported_generation_methods=['bidiGenerateContent', 'countTokens'],\n",
            "      temperature=1.0,\n",
            "      max_temperature=2.0,\n",
            "      top_p=0.95,\n",
            "      top_k=64)\n"
          ]
        }
      ]
    },
    {
      "cell_type": "code",
      "source": [
        "for models in genai.list_models():\n",
        "  if \"generateContent\" in models.supported_generation_methods:\n",
        "    print(models.name)"
      ],
      "metadata": {
        "colab": {
          "base_uri": "https://localhost:8080/",
          "height": 729
        },
        "id": "eoPjY2SVLsLw",
        "outputId": "b4ccf728-62ad-486d-f121-c5176055ee49"
      },
      "execution_count": 6,
      "outputs": [
        {
          "output_type": "stream",
          "name": "stdout",
          "text": [
            "models/gemini-1.0-pro-vision-latest\n",
            "models/gemini-pro-vision\n",
            "models/gemini-1.5-pro-latest\n",
            "models/gemini-1.5-pro-002\n",
            "models/gemini-1.5-pro\n",
            "models/gemini-1.5-flash-latest\n",
            "models/gemini-1.5-flash\n",
            "models/gemini-1.5-flash-002\n",
            "models/gemini-1.5-flash-8b\n",
            "models/gemini-1.5-flash-8b-001\n",
            "models/gemini-1.5-flash-8b-latest\n",
            "models/gemini-2.5-pro-exp-03-25\n",
            "models/gemini-2.5-pro-preview-03-25\n",
            "models/gemini-2.5-flash-preview-04-17\n",
            "models/gemini-2.5-flash-preview-05-20\n",
            "models/gemini-2.5-flash-preview-04-17-thinking\n",
            "models/gemini-2.5-pro-preview-05-06\n",
            "models/gemini-2.5-pro-preview-06-05\n",
            "models/gemini-2.0-flash-exp\n",
            "models/gemini-2.0-flash\n",
            "models/gemini-2.0-flash-001\n",
            "models/gemini-2.0-flash-exp-image-generation\n",
            "models/gemini-2.0-flash-lite-001\n",
            "models/gemini-2.0-flash-lite\n",
            "models/gemini-2.0-flash-preview-image-generation\n",
            "models/gemini-2.0-flash-lite-preview-02-05\n",
            "models/gemini-2.0-flash-lite-preview\n",
            "models/gemini-2.0-pro-exp\n",
            "models/gemini-2.0-pro-exp-02-05\n",
            "models/gemini-exp-1206\n",
            "models/gemini-2.0-flash-thinking-exp-01-21\n",
            "models/gemini-2.0-flash-thinking-exp\n",
            "models/gemini-2.0-flash-thinking-exp-1219\n",
            "models/gemini-2.5-flash-preview-tts\n",
            "models/gemini-2.5-pro-preview-tts\n",
            "models/learnlm-2.0-flash-experimental\n",
            "models/gemma-3-1b-it\n",
            "models/gemma-3-4b-it\n",
            "models/gemma-3-12b-it\n",
            "models/gemma-3-27b-it\n",
            "models/gemma-3n-e4b-it\n"
          ]
        }
      ]
    },
    {
      "cell_type": "code",
      "source": [
        "model = genai.GenerativeModel(\"gemini-1.5-pro\")"
      ],
      "metadata": {
        "id": "1D_j1ZZSMU2C"
      },
      "execution_count": 7,
      "outputs": []
    },
    {
      "cell_type": "code",
      "source": [
        "%%time\n",
        "response = model.generate_content(\"what is the meaning of life?\")"
      ],
      "metadata": {
        "colab": {
          "base_uri": "https://localhost:8080/",
          "height": 52
        },
        "id": "HvznSansNPvj",
        "outputId": "a215e9ef-e47f-4e1f-bd7f-ce540bcb8f33"
      },
      "execution_count": 16,
      "outputs": [
        {
          "output_type": "stream",
          "name": "stdout",
          "text": [
            "CPU times: user 58.5 ms, sys: 3.95 ms, total: 62.4 ms\n",
            "Wall time: 8.43 s\n"
          ]
        }
      ]
    },
    {
      "cell_type": "code",
      "source": [
        "response.text"
      ],
      "metadata": {
        "colab": {
          "base_uri": "https://localhost:8080/",
          "height": 157
        },
        "id": "e2NOy85IPk9m",
        "outputId": "ad0e57be-e22d-4fdb-f2ea-d19532620508"
      },
      "execution_count": 17,
      "outputs": [
        {
          "output_type": "execute_result",
          "data": {
            "text/plain": [
              "\"The meaning of life is a question that has been pondered by philosophers, theologians, scientists, and individuals for centuries. There isn't one definitive answer that satisfies everyone.  It's a deeply personal and often evolving concept.  Here are some perspectives:\\n\\n* **Nihilism:** This philosophy argues that life is inherently meaningless.  There's no objective purpose or value.\\n\\n* **Existentialism:** This perspective emphasizes individual freedom, responsibility, and the search for meaning.  Meaning isn't inherent; it's created through choices and actions.\\n\\n* **Absurdism:**  Recognizes the conflict between humanity's search for meaning and the universe's apparent lack of it.  Embracing this absurdity is key.\\n\\n* **Hedonism:**  Pleasure and happiness are the ultimate goals and the meaning of life.\\n\\n* **Utilitarianism:**  The greatest good for the greatest number of people should be the guiding principle.\\n\\n* **Purpose-driven life:**  Finding a specific purpose or calling, often related to a higher power or serving others.\\n\\n* **Scientific perspective:**  From a purely scientific standpoint, life is about survival and reproduction, driven by evolutionary processes.\\n\\n* **Humanism:**  Emphasizes human reason, ethics, and justice.  Meaning is found in human connection, compassion, and contributing to society.\\n\\n* **Eastern philosophies (e.g., Buddhism, Hinduism):** Often focus on achieving enlightenment, liberation from suffering, or understanding the interconnectedness of all things.\\n\\n\\nUltimately, the meaning of life is what you make it.  It's about the experiences you have, the relationships you build, the values you hold, and the impact you have on the world.  It's a question you answer for yourself through living.\\n\""
            ],
            "application/vnd.google.colaboratory.intrinsic+json": {
              "type": "string"
            }
          },
          "metadata": {},
          "execution_count": 17
        }
      ]
    },
    {
      "cell_type": "code",
      "source": [
        "to_markdown(response.text)"
      ],
      "metadata": {
        "colab": {
          "base_uri": "https://localhost:8080/",
          "height": 383
        },
        "id": "11Spnf0DPnA-",
        "outputId": "7758b103-5082-4600-f0ea-c53c6793a908"
      },
      "execution_count": 18,
      "outputs": [
        {
          "output_type": "execute_result",
          "data": {
            "text/plain": [
              "<IPython.core.display.Markdown object>"
            ],
            "text/markdown": "> The meaning of life is a question that has been pondered by philosophers, theologians, scientists, and individuals for centuries* There isn't one definitive answer that satisfies everyone*  It's a deeply personal and often evolving concept*  Here are some perspectives:\n> \n> * **Nihilism:** This philosophy argues that life is inherently meaningless*  There's no objective purpose or value*\n> \n> * **Existentialism:** This perspective emphasizes individual freedom, responsibility, and the search for meaning*  Meaning isn't inherent; it's created through choices and actions*\n> \n> * **Absurdism:**  Recognizes the conflict between humanity's search for meaning and the universe's apparent lack of it*  Embracing this absurdity is key*\n> \n> * **Hedonism:**  Pleasure and happiness are the ultimate goals and the meaning of life*\n> \n> * **Utilitarianism:**  The greatest good for the greatest number of people should be the guiding principle*\n> \n> * **Purpose-driven life:**  Finding a specific purpose or calling, often related to a higher power or serving others*\n> \n> * **Scientific perspective:**  From a purely scientific standpoint, life is about survival and reproduction, driven by evolutionary processes*\n> \n> * **Humanism:**  Emphasizes human reason, ethics, and justice*  Meaning is found in human connection, compassion, and contributing to society*\n> \n> * **Eastern philosophies (e*g*, Buddhism, Hinduism):** Often focus on achieving enlightenment, liberation from suffering, or understanding the interconnectedness of all things*\n> \n> \n> Ultimately, the meaning of life is what you make it*  It's about the experiences you have, the relationships you build, the values you hold, and the impact you have on the world*  It's a question you answer for yourself through living*\n"
          },
          "metadata": {},
          "execution_count": 18
        }
      ]
    },
    {
      "cell_type": "code",
      "source": [
        "response.prompt_feedback"
      ],
      "metadata": {
        "colab": {
          "base_uri": "https://localhost:8080/"
        },
        "id": "Z3xWG-_dPxYu",
        "outputId": "3420f7c4-e3c9-413d-8ce0-e3b7ad36fb35"
      },
      "execution_count": 21,
      "outputs": [
        {
          "output_type": "execute_result",
          "data": {
            "text/plain": []
          },
          "metadata": {},
          "execution_count": 21
        }
      ]
    },
    {
      "cell_type": "code",
      "source": [
        "response.candidates"
      ],
      "metadata": {
        "colab": {
          "base_uri": "https://localhost:8080/"
        },
        "id": "6fd5Uv9bP-6X",
        "outputId": "289cfd1d-78f9-4ea2-9ad0-17e57ff1e82a"
      },
      "execution_count": 22,
      "outputs": [
        {
          "output_type": "execute_result",
          "data": {
            "text/plain": [
              "[content {\n",
              "  parts {\n",
              "    text: \"The meaning of life is a question that has been pondered by philosophers, theologians, scientists, and individuals for centuries. There isn\\'t one definitive answer that satisfies everyone.  It\\'s a deeply personal and often evolving concept.  Here are some perspectives:\\n\\n* **Nihilism:** This philosophy argues that life is inherently meaningless.  There\\'s no objective purpose or value.\\n\\n* **Existentialism:** This perspective emphasizes individual freedom, responsibility, and the search for meaning.  Meaning isn\\'t inherent; it\\'s created through choices and actions.\\n\\n* **Absurdism:**  Recognizes the conflict between humanity\\'s search for meaning and the universe\\'s apparent lack of it.  Embracing this absurdity is key.\\n\\n* **Hedonism:**  Pleasure and happiness are the ultimate goals and the meaning of life.\\n\\n* **Utilitarianism:**  The greatest good for the greatest number of people should be the guiding principle.\\n\\n* **Purpose-driven life:**  Finding a specific purpose or calling, often related to a higher power or serving others.\\n\\n* **Scientific perspective:**  From a purely scientific standpoint, life is about survival and reproduction, driven by evolutionary processes.\\n\\n* **Humanism:**  Emphasizes human reason, ethics, and justice.  Meaning is found in human connection, compassion, and contributing to society.\\n\\n* **Eastern philosophies (e.g., Buddhism, Hinduism):** Often focus on achieving enlightenment, liberation from suffering, or understanding the interconnectedness of all things.\\n\\n\\nUltimately, the meaning of life is what you make it.  It\\'s about the experiences you have, the relationships you build, the values you hold, and the impact you have on the world.  It\\'s a question you answer for yourself through living.\\n\"\n",
              "  }\n",
              "  role: \"model\"\n",
              "}\n",
              "finish_reason: STOP\n",
              "avg_logprobs: -0.11120407022234564\n",
              "]"
            ]
          },
          "metadata": {},
          "execution_count": 22
        }
      ]
    },
    {
      "cell_type": "code",
      "source": [
        "response.parts"
      ],
      "metadata": {
        "colab": {
          "base_uri": "https://localhost:8080/"
        },
        "id": "nGUYQ0blQDFv",
        "outputId": "4dd6bad7-7683-4191-b914-24221eef7676"
      },
      "execution_count": 23,
      "outputs": [
        {
          "output_type": "execute_result",
          "data": {
            "text/plain": [
              "[text: \"The meaning of life is a question that has been pondered by philosophers, theologians, scientists, and individuals for centuries. There isn\\'t one definitive answer that satisfies everyone.  It\\'s a deeply personal and often evolving concept.  Here are some perspectives:\\n\\n* **Nihilism:** This philosophy argues that life is inherently meaningless.  There\\'s no objective purpose or value.\\n\\n* **Existentialism:** This perspective emphasizes individual freedom, responsibility, and the search for meaning.  Meaning isn\\'t inherent; it\\'s created through choices and actions.\\n\\n* **Absurdism:**  Recognizes the conflict between humanity\\'s search for meaning and the universe\\'s apparent lack of it.  Embracing this absurdity is key.\\n\\n* **Hedonism:**  Pleasure and happiness are the ultimate goals and the meaning of life.\\n\\n* **Utilitarianism:**  The greatest good for the greatest number of people should be the guiding principle.\\n\\n* **Purpose-driven life:**  Finding a specific purpose or calling, often related to a higher power or serving others.\\n\\n* **Scientific perspective:**  From a purely scientific standpoint, life is about survival and reproduction, driven by evolutionary processes.\\n\\n* **Humanism:**  Emphasizes human reason, ethics, and justice.  Meaning is found in human connection, compassion, and contributing to society.\\n\\n* **Eastern philosophies (e.g., Buddhism, Hinduism):** Often focus on achieving enlightenment, liberation from suffering, or understanding the interconnectedness of all things.\\n\\n\\nUltimately, the meaning of life is what you make it.  It\\'s about the experiences you have, the relationships you build, the values you hold, and the impact you have on the world.  It\\'s a question you answer for yourself through living.\\n\"\n",
              "]"
            ]
          },
          "metadata": {},
          "execution_count": 23
        }
      ]
    },
    {
      "cell_type": "code",
      "source": [
        "%%time\n",
        "response = model.generate_content(\"what is the meaning of life?\",stream=True)\n",
        "for chunks in response:\n",
        "  print(chunks.text)\n",
        "  print(\"_\"*80)"
      ],
      "metadata": {
        "colab": {
          "base_uri": "https://localhost:8080/",
          "height": 783
        },
        "id": "48k_UmrUQIf3",
        "outputId": "000da68e-9abd-4154-f8a8-43efaca78294"
      },
      "execution_count": 24,
      "outputs": [
        {
          "output_type": "stream",
          "name": "stdout",
          "text": [
            "The\n",
            "________________________________________________________________________________\n",
            " meaning of life\n",
            "________________________________________________________________________________\n",
            " is a question that has puzzled philosophers and individuals for centuries.  There isn't one\n",
            "________________________________________________________________________________\n",
            " universally accepted answer.  It's a deeply personal and often evolving concept.  Here\n",
            "________________________________________________________________________________\n",
            " are a few perspectives:\n",
            "\n",
            "* **Nihilism:**  This philosophy asserts that life is inherently meaningless. There's no objective purpose or value.\n",
            "\n",
            "* **Exist\n",
            "________________________________________________________________________________\n",
            "entialism:** This viewpoint emphasizes individual freedom, responsibility, and the search for meaning.  Meaning isn't inherent; it's something we create through our choices and actions\n",
            "________________________________________________________________________________\n",
            ".\n",
            "\n",
            "* **Absurdism:**  This recognizes the conflict between humanity's inherent desire for meaning and the universe's apparent lack of it.  Embracing this absurdity is key.\n",
            "\n",
            "* **Hedonism:**  This\n",
            "________________________________________________________________________________\n",
            " focuses on pleasure and happiness as the primary goals in life.  Maximizing enjoyment and minimizing pain is the path to a meaningful existence.\n",
            "\n",
            "* **Purpose-driven meaning:**  This perspective suggests that finding a purpose, whether it's\n",
            "________________________________________________________________________________\n",
            " a career, a cause, or a personal goal, gives life meaning.\n",
            "\n",
            "* **Relationship-driven meaning:**  For many, meaning is found in connections with others – family, friends, community.  Love, belonging, and contribution are central.\n",
            "\n",
            "* **Spiritual/Religious meaning:**  Many religions offer answers\n",
            "________________________________________________________________________________\n",
            " about the meaning of life, often involving a higher power, a divine plan, or an afterlife.\n",
            "\n",
            "* **Scientific/Evolutionary meaning:**  From a scientific perspective, the biological purpose of life is survival and reproduction.  However, this doesn't necessarily address the subjective experience of meaning.\n",
            "\n",
            "**In short\n",
            "________________________________________________________________________________\n",
            ", the meaning of life is what you make it.**  It's up to each individual to define their own purpose and find what gives their existence value.  This can involve exploring different philosophies, reflecting on personal values, and engaging with the world around them.\n",
            "\n",
            "________________________________________________________________________________\n",
            "CPU times: user 95.2 ms, sys: 4.49 ms, total: 99.6 ms\n",
            "Wall time: 9.13 s\n"
          ]
        }
      ]
    },
    {
      "cell_type": "code",
      "source": [
        "import PIL.Image\n",
        "image1 = PIL.Image.open(\"/content/download (1).jpeg\")\n",
        "image1"
      ],
      "metadata": {
        "colab": {
          "base_uri": "https://localhost:8080/",
          "height": 165
        },
        "id": "cZ6Bl_6OSh2f",
        "outputId": "cf3b1696-ab3b-404b-83bc-302e4a668687"
      },
      "execution_count": 33,
      "outputs": [
        {
          "output_type": "execute_result",
          "data": {
            "text/plain": [
              "<PIL.JpegImagePlugin.JpegImageFile image mode=RGB size=212x148>"
            ],
            "image/png": "[encoded data removed]",
            "image/jpeg": "[encoded data removed]"
          },
          "metadata": {},
          "execution_count": 33
        }
      ]
    },
    {
      "cell_type": "code",
      "source": [
        "image2 = PIL.Image.open(\"/content/download.jpeg\")\n",
        "image2"
      ],
      "metadata": {
        "colab": {
          "base_uri": "https://localhost:8080/",
          "height": 165
        },
        "id": "ubAFRCAqUKVn",
        "outputId": "e5d1b36a-db2c-498e-cb95-cc1c975941c0"
      },
      "execution_count": 34,
      "outputs": [
        {
          "output_type": "execute_result",
          "data": {
            "text/plain": [
              "<PIL.JpegImagePlugin.JpegImageFile image mode=RGB size=207x148>"
            ],
            "image/png": "[encoded data removed]",
            "image/jpeg": "[encoded data removed]"
          },
          "metadata": {},
          "execution_count": 34
        }
      ]
    },
    {
      "cell_type": "code",
      "source": [
        "model2 = genai.GenerativeModel(\"gemini-1.5-flash\")"
      ],
      "metadata": {
        "id": "VoDdKFKSURmS"
      },
      "execution_count": 8,
      "outputs": []
    },
    {
      "cell_type": "code",
      "source": [
        "response = model2.generate_content([\"write a blog about the healthy meal and how to cook it?\",image1],stream=True)"
      ],
      "metadata": {
        "id": "BMYK4vHlVUBR"
      },
      "execution_count": 42,
      "outputs": []
    },
    {
      "cell_type": "code",
      "source": [
        "response"
      ],
      "metadata": {
        "colab": {
          "base_uri": "https://localhost:8080/"
        },
        "id": "8Am8VP8fVfTV",
        "outputId": "e52dc6ea-1792-41f6-c0a4-906dfe376fda"
      },
      "execution_count": 39,
      "outputs": [
        {
          "output_type": "execute_result",
          "data": {
            "text/plain": [
              "response:\n",
              "GenerateContentResponse(\n",
              "    done=True,\n",
              "    iterator=None,\n",
              "    result=protos.GenerateContentResponse({\n",
              "      \"candidates\": [\n",
              "        {\n",
              "          \"content\": {\n",
              "            \"parts\": [\n",
              "              {\n",
              "                \"text\": \"That's a picture of a delicious and healthy-looking meal!  It appears to be a grain bowl featuring:\\n\\n* **Brown Rice:** A base of whole grain rice providing complex carbohydrates and fiber.\\n* **Roasted Vegetables:**  A mix of roasted vegetables like broccoli, carrots, and Brussels sprouts, adding vitamins, minerals, and antioxidants.\\n* **Other possible ingredients:**  There might be other vegetables or seasonings (like ginger, as indicated by a piece visible on the upper right) that aren't entirely clear from the image.\\n\\nThe fresh herbs and cherry tomatoes scattered around suggest a vibrant and flavorful dish. The overall presentation is appealing and emphasizes fresh, wholesome ingredients.\\n\"\n",
              "              }\n",
              "            ],\n",
              "            \"role\": \"model\"\n",
              "          },\n",
              "          \"finish_reason\": \"STOP\",\n",
              "          \"avg_logprobs\": -0.4069113322666713\n",
              "        }\n",
              "      ],\n",
              "      \"usage_metadata\": {\n",
              "        \"prompt_token_count\": 259,\n",
              "        \"candidates_token_count\": 140,\n",
              "        \"total_token_count\": 399\n",
              "      },\n",
              "      \"model_version\": \"gemini-1.5-flash\"\n",
              "    }),\n",
              ")"
            ]
          },
          "metadata": {},
          "execution_count": 39
        }
      ]
    },
    {
      "cell_type": "code",
      "source": [
        "response.resolve()"
      ],
      "metadata": {
        "id": "RT9wTtqSXFVH"
      },
      "execution_count": 44,
      "outputs": []
    },
    {
      "cell_type": "code",
      "source": [
        "to_markdown(response.text)"
      ],
      "metadata": {
        "colab": {
          "base_uri": "https://localhost:8080/",
          "height": 946
        },
        "id": "LB4L3GsrVrNm",
        "outputId": "09acf52d-d15e-4aa7-a6c0-ac5d1cd2910d"
      },
      "execution_count": 45,
      "outputs": [
        {
          "output_type": "execute_result",
          "data": {
            "text/plain": [
              "<IPython.core.display.Markdown object>"
            ],
            "text/markdown": "> ## Fuel Your Body Right: A Simple & Delicious Healthy Meal\n> \n> We all know we *should* eat healthier, but the thought of complicated recipes and hours spent in the kitchen can be overwhelming*  The truth is, healthy eating doesn't have to be complicated! This blog post will walk you through creating a vibrant, flavorful, and nutritious meal that's both quick and easy to prepare*\n> \n> **The Power Bowl: A Healthy Meal in One Bowl**\n> \n> Today's star is the power bowl – a customizable masterpiece of healthy goodness*  Power bowls are fantastic because they're naturally balanced, packed with nutrients, and easily adaptable to your preferences and dietary needs*  The bowl pictured above is a great example, but let's focus on a simplified version that's perfect for a weeknight dinner*\n> \n> **Recipe: Simple Roasted Veggie & Brown Rice Bowl**\n> \n> This recipe is designed to be flexible* Feel free to swap out vegetables based on what's in season or what you have on hand*\n> \n> **Yields:** 2 servings\n> **Prep time:** 15 minutes\n> **Cook time:** 30 minutes\n> \n> \n> **Ingredients:**\n> \n> * 1 cup brown rice\n> * 1 cup broccoli florets\n> * 1 cup carrots, chopped\n> * 1 zucchini, chopped\n> * 1/2 cup Brussels sprouts, halved\n> * 1 tablespoon olive oil\n> * 1 teaspoon garlic powder\n> * 1/2 teaspoon onion powder\n> * Salt and pepper to taste\n> * Optional:  Lime wedges, fresh herbs (parsley, cilantro), a drizzle of tahini or your favorite dressing\n> \n> \n> **Instructions:**\n> \n> 1* **Cook the rice:** Rinse the brown rice under cold water*  Cook according to package directions*  (Usually around 40-45 minutes on the stovetop or according to your rice cooker instructions)*\n> 2* **Prep the vegetables:** Preheat your oven to 400°F (200°C)*  Wash and chop all your vegetables*\n> 3* **Roast the vegetables:** In a large bowl, toss the chopped vegetables with olive oil, garlic powder, onion powder, salt, and pepper* Spread them in a single layer on a baking sheet* Roast for 25-30 minutes, or until tender and slightly browned*  You can check for doneness by easily piercing the vegetables with a fork*\n> 4* **Assemble the bowls:** Once the rice is cooked and the vegetables are roasted, divide the rice between two bowls* Top with the roasted vegetables*\n> 5* **Add extras (optional):** Squeeze fresh lime juice over the bowl, sprinkle with fresh herbs, or drizzle with tahini or your favorite healthy dressing for extra flavor*\n> \n> \n> **Tips for Success:**\n> \n> * **Don't overcrowd the baking sheet:** Ensure the vegetables are in a single layer for even roasting* If necessary, use two baking sheets*\n> * **Adjust cooking time:**  Depending on your oven and the size of your vegetables, you might need to adjust the roasting time*  Start checking for doneness around 25 minutes*\n> * **Get creative with vegetables:**  Feel free to add other vegetables like bell peppers, sweet potatoes, or butternut squash*\n> * **Add protein:** For a more complete meal, add grilled chicken, fish, tofu, or chickpeas*\n> \n> \n> **Why this meal is healthy:**\n> \n> * **Brown rice:** A good source of fiber, which aids digestion and keeps you feeling full*\n> * **Broccoli:** Packed with vitamins C and K, and antioxidants*\n> * **Carrots:**  Rich in beta-carotene, which your body converts to vitamin A*\n> * **Zucchini:** A low-calorie vegetable with high water content, contributing to hydration*\n> * **Brussels sprouts:**  Excellent source of vitamin C and fiber*\n> * **Olive oil:** A healthy fat that provides essential fatty acids*\n> \n> This simple power bowl recipe is a fantastic starting point for exploring healthy eating*  Remember, healthy eating is a journey, not a race*  Start small, experiment with different ingredients, and enjoy the process of fueling your body with delicious and nutritious food!  What are your favorite healthy meal additions? Share your ideas in the comments below!\n"
          },
          "metadata": {},
          "execution_count": 45
        }
      ]
    },
    {
      "cell_type": "code",
      "source": [
        "response = model.generate_content(\n",
        "    \"what is the storyof avengers\",\n",
        "    generation_config=genai.types.GenerationConfig(\n",
        "        stop_sequences=[\"X\"],\n",
        "        candidate_count=1,\n",
        "        temperature=1.0,\n",
        "        max_output_tokens=50\n",
        "    )\n",
        "    )"
      ],
      "metadata": {
        "id": "4yf-t_T3WBoM"
      },
      "execution_count": 46,
      "outputs": []
    },
    {
      "cell_type": "code",
      "source": [
        "response.text"
      ],
      "metadata": {
        "colab": {
          "base_uri": "https://localhost:8080/",
          "height": 53
        },
        "id": "Cdc1YS80avcl",
        "outputId": "1d35246f-f6ef-4c10-84b8-52a21eef016d"
      },
      "execution_count": 47,
      "outputs": [
        {
          "output_type": "execute_result",
          "data": {
            "text/plain": [
              "\"The Avengers' story is a sprawling saga, best broken down into phases and key storylines:\\n\\n**Phase 1: Assembling the Team and Facing Global Threats**\\n\\n* **Individual Origins:** The story begins with the introduction of key heroes like Iron\""
            ],
            "application/vnd.google.colaboratory.intrinsic+json": {
              "type": "string"
            }
          },
          "metadata": {},
          "execution_count": 47
        }
      ]
    },
    {
      "cell_type": "code",
      "source": [
        "to_markdown(response.text)"
      ],
      "metadata": {
        "colab": {
          "base_uri": "https://localhost:8080/",
          "height": 109
        },
        "id": "oVtaGMS6ax6n",
        "outputId": "527b4822-66c5-40f9-f676-06f967f6fcb7"
      },
      "execution_count": 48,
      "outputs": [
        {
          "output_type": "execute_result",
          "data": {
            "text/plain": [
              "<IPython.core.display.Markdown object>"
            ],
            "text/markdown": "> The Avengers' story is a sprawling saga, best broken down into phases and key storylines:\n> \n> **Phase 1: Assembling the Team and Facing Global Threats**\n> \n> * **Individual Origins:** The story begins with the introduction of key heroes like Iron"
          },
          "metadata": {},
          "execution_count": 48
        }
      ]
    },
    {
      "cell_type": "code",
      "source": [
        "response.candidates"
      ],
      "metadata": {
        "colab": {
          "base_uri": "https://localhost:8080/"
        },
        "id": "eD_po1t6a2JA",
        "outputId": "8f25856e-2971-4db8-fcb6-2a3e83ea1860"
      },
      "execution_count": 49,
      "outputs": [
        {
          "output_type": "execute_result",
          "data": {
            "text/plain": [
              "[content {\n",
              "  parts {\n",
              "    text: \"The Avengers\\' story is a sprawling saga, best broken down into phases and key storylines:\\n\\n**Phase 1: Assembling the Team and Facing Global Threats**\\n\\n* **Individual Origins:** The story begins with the introduction of key heroes like Iron\"\n",
              "  }\n",
              "  role: \"model\"\n",
              "}\n",
              "finish_reason: MAX_TOKENS\n",
              "avg_logprobs: -0.20542758941650391\n",
              "]"
            ]
          },
          "metadata": {},
          "execution_count": 49
        }
      ]
    },
    {
      "cell_type": "code",
      "source": [
        "chat = model.start_chat(history=[])"
      ],
      "metadata": {
        "id": "8lZJPiBXbm75"
      },
      "execution_count": 50,
      "outputs": []
    },
    {
      "cell_type": "code",
      "source": [
        "chat"
      ],
      "metadata": {
        "colab": {
          "base_uri": "https://localhost:8080/"
        },
        "id": "xxhKKJxab8is",
        "outputId": "7e3475f7-cf87-40b2-cac6-10ade99c4fc7"
      },
      "execution_count": 51,
      "outputs": [
        {
          "output_type": "execute_result",
          "data": {
            "text/plain": [
              "ChatSession(\n",
              "    model=genai.GenerativeModel(\n",
              "        model_name='models/gemini-1.5-pro',\n",
              "        generation_config={},\n",
              "        safety_settings={},\n",
              "        tools=None,\n",
              "        system_instruction=None,\n",
              "        cached_content=None\n",
              "    ),\n",
              "    history=[]\n",
              ")"
            ]
          },
          "metadata": {},
          "execution_count": 51
        }
      ]
    },
    {
      "cell_type": "code",
      "source": [
        "response = chat.send_message(\"explain how computer works to a young child\")"
      ],
      "metadata": {
        "id": "_YoX4qezb9Kj"
      },
      "execution_count": 52,
      "outputs": []
    },
    {
      "cell_type": "code",
      "source": [
        "response.text"
      ],
      "metadata": {
        "colab": {
          "base_uri": "https://localhost:8080/",
          "height": 157
        },
        "id": "F1wJkx3IcOnh",
        "outputId": "fdf94e87-501f-4610-9628-2d639205cb56"
      },
      "execution_count": 53,
      "outputs": [
        {
          "output_type": "execute_result",
          "data": {
            "text/plain": [
              "'Imagine a computer is like a very smart toy box!\\n\\nInside the toy box, there\\'s a special friend called the **CPU**, or the \"brain.\" This brain is super fast at following instructions.\\n\\nYou give the brain instructions using a **keyboard** and **mouse**, like telling it which toy you want to play with.\\n\\nThe brain then looks for the toy in its **memory**, which is like the shelves inside the toy box. The memory holds all your games, pictures, and videos.\\n\\nIf the toy isn\\'t on the shelf, the brain might look for it in a bigger storage box called the **hard drive**. This is like the attic where you keep toys you don\\'t play with every day.\\n\\nOnce the brain finds the toy, it shows it to you on the **screen**, which is like the window of the toy box. You can see what the brain is doing!\\n\\nSometimes, the brain needs to talk to other toy boxes (other computers) through the **internet**, which is like a giant playground connecting all the toy boxes together.\\n\\nSo, basically, a computer is a clever toy box with a brain that follows your instructions to show you fun things on the screen!  It can also talk to other toy boxes and store lots of toys in its memory and storage.\\n'"
            ],
            "application/vnd.google.colaboratory.intrinsic+json": {
              "type": "string"
            }
          },
          "metadata": {},
          "execution_count": 53
        }
      ]
    },
    {
      "cell_type": "code",
      "source": [
        "to_markdown(response.text)"
      ],
      "metadata": {
        "colab": {
          "base_uri": "https://localhost:8080/",
          "height": 278
        },
        "id": "nbMS4C2McWHV",
        "outputId": "04a242b5-e40a-4b85-f4c7-1c654db45625"
      },
      "execution_count": 54,
      "outputs": [
        {
          "output_type": "execute_result",
          "data": {
            "text/plain": [
              "<IPython.core.display.Markdown object>"
            ],
            "text/markdown": "> Imagine a computer is like a very smart toy box!\n> \n> Inside the toy box, there's a special friend called the **CPU**, or the \"brain*\" This brain is super fast at following instructions*\n> \n> You give the brain instructions using a **keyboard** and **mouse**, like telling it which toy you want to play with*\n> \n> The brain then looks for the toy in its **memory**, which is like the shelves inside the toy box* The memory holds all your games, pictures, and videos*\n> \n> If the toy isn't on the shelf, the brain might look for it in a bigger storage box called the **hard drive*** This is like the attic where you keep toys you don't play with every day*\n> \n> Once the brain finds the toy, it shows it to you on the **screen**, which is like the window of the toy box* You can see what the brain is doing!\n> \n> Sometimes, the brain needs to talk to other toy boxes (other computers) through the **internet**, which is like a giant playground connecting all the toy boxes together*\n> \n> So, basically, a computer is a clever toy box with a brain that follows your instructions to show you fun things on the screen!  It can also talk to other toy boxes and store lots of toys in its memory and storage*\n"
          },
          "metadata": {},
          "execution_count": 54
        }
      ]
    },
    {
      "cell_type": "code",
      "source": [
        "chat.history"
      ],
      "metadata": {
        "colab": {
          "base_uri": "https://localhost:8080/"
        },
        "id": "vyYVk7XlcZ0F",
        "outputId": "f14c8cc8-6f07-4ea7-f2c5-d3ee4024cff0"
      },
      "execution_count": 56,
      "outputs": [
        {
          "output_type": "execute_result",
          "data": {
            "text/plain": [
              "[parts {\n",
              "   text: \"explain how computer works to a young child\"\n",
              " }\n",
              " role: \"user\",\n",
              " parts {\n",
              "   text: \"Imagine a computer is like a very smart toy box!\\n\\nInside the toy box, there\\'s a special friend called the **CPU**, or the \\\"brain.\\\" This brain is super fast at following instructions.\\n\\nYou give the brain instructions using a **keyboard** and **mouse**, like telling it which toy you want to play with.\\n\\nThe brain then looks for the toy in its **memory**, which is like the shelves inside the toy box. The memory holds all your games, pictures, and videos.\\n\\nIf the toy isn\\'t on the shelf, the brain might look for it in a bigger storage box called the **hard drive**. This is like the attic where you keep toys you don\\'t play with every day.\\n\\nOnce the brain finds the toy, it shows it to you on the **screen**, which is like the window of the toy box. You can see what the brain is doing!\\n\\nSometimes, the brain needs to talk to other toy boxes (other computers) through the **internet**, which is like a giant playground connecting all the toy boxes together.\\n\\nSo, basically, a computer is a clever toy box with a brain that follows your instructions to show you fun things on the screen!  It can also talk to other toy boxes and store lots of toys in its memory and storage.\\n\"\n",
              " }\n",
              " role: \"model\"]"
            ]
          },
          "metadata": {},
          "execution_count": 56
        }
      ]
    },
    {
      "cell_type": "code",
      "source": [
        "response = chat.send_message(\"Okay,then how you explain to high school student\",stream=True)"
      ],
      "metadata": {
        "id": "aP51vM1icgrz"
      },
      "execution_count": 57,
      "outputs": []
    },
    {
      "cell_type": "code",
      "source": [
        "response.resolve()"
      ],
      "metadata": {
        "id": "E8x0pteYdIXb"
      },
      "execution_count": 59,
      "outputs": []
    },
    {
      "cell_type": "code",
      "source": [
        "response.text"
      ],
      "metadata": {
        "colab": {
          "base_uri": "https://localhost:8080/",
          "height": 157
        },
        "id": "0CGN3_1ydSpU",
        "outputId": "6fc0749a-d747-4edd-9e85-ed9fd11b5a69"
      },
      "execution_count": 60,
      "outputs": [
        {
          "output_type": "execute_result",
          "data": {
            "text/plain": [
              "\"A computer is a complex machine built upon layers of abstraction, starting with hardware and culminating in user-friendly software.  At its core, it's a system designed to process information.  Here's a breakdown:\\n\\n* **Hardware:**  This is the physical stuff you can touch. The core component is the **Central Processing Unit (CPU)**, which executes instructions.  These instructions operate on data stored in **Random Access Memory (RAM)**, which is fast but temporary storage.  For permanent storage, we have **hard drives (HDDs)** or **solid-state drives (SSDs)**.  Input devices like the keyboard and mouse allow us to interact with the computer, while output devices like the monitor and speakers display the results of the processing.\\n\\n* **Software:** This is the set of instructions that tell the hardware what to do.  The **operating system (OS)** manages all the hardware and software resources.  Think of it as the conductor of an orchestra.  It handles file management, memory allocation, and provides a platform for applications to run.  Applications are programs designed for specific tasks, like word processing, web browsing, or gaming.\\n\\n* **Binary Code:**  At the lowest level, computers understand only binary code – a series of 0s and 1s representing electrical signals (on or off).  Everything, from instructions to data, is ultimately represented in binary.\\n\\n* **Logic Gates and Circuits:**  These are the building blocks of the CPU.  They manipulate binary data using Boolean logic (AND, OR, NOT) to perform calculations and execute instructions.\\n\\n* **Programming Languages:**  Humans don't write in binary directly.  Instead, we use programming languages like Python, Java, or C++. These languages provide a more human-readable way to write instructions, which are then translated into binary code that the computer can understand.  This translation process is done by compilers or interpreters.\\n\\n* **Networking:** Computers can communicate with each other through networks, like the internet.  This allows for sharing data, accessing remote resources, and collaborating on projects.\\n\\nIn essence, a computer takes input, processes it using the CPU and instructions from software, stores the data in memory or on a storage device, and then outputs the results. This entire process is based on the manipulation of binary data and is managed by the operating system.  The layers of abstraction, from hardware to software, make it possible for us to interact with these complex machines in a user-friendly way.\\n\""
            ],
            "application/vnd.google.colaboratory.intrinsic+json": {
              "type": "string"
            }
          },
          "metadata": {},
          "execution_count": 60
        }
      ]
    },
    {
      "cell_type": "code",
      "source": [
        "chat.history"
      ],
      "metadata": {
        "colab": {
          "base_uri": "https://localhost:8080/"
        },
        "id": "T9c1aacqdWVA",
        "outputId": "138600b0-3c6d-4d4b-bdd6-dc6cf1c1a61c"
      },
      "execution_count": 61,
      "outputs": [
        {
          "output_type": "execute_result",
          "data": {
            "text/plain": [
              "[parts {\n",
              "   text: \"explain how computer works to a young child\"\n",
              " }\n",
              " role: \"user\",\n",
              " parts {\n",
              "   text: \"Imagine a computer is like a very smart toy box!\\n\\nInside the toy box, there\\'s a special friend called the **CPU**, or the \\\"brain.\\\" This brain is super fast at following instructions.\\n\\nYou give the brain instructions using a **keyboard** and **mouse**, like telling it which toy you want to play with.\\n\\nThe brain then looks for the toy in its **memory**, which is like the shelves inside the toy box. The memory holds all your games, pictures, and videos.\\n\\nIf the toy isn\\'t on the shelf, the brain might look for it in a bigger storage box called the **hard drive**. This is like the attic where you keep toys you don\\'t play with every day.\\n\\nOnce the brain finds the toy, it shows it to you on the **screen**, which is like the window of the toy box. You can see what the brain is doing!\\n\\nSometimes, the brain needs to talk to other toy boxes (other computers) through the **internet**, which is like a giant playground connecting all the toy boxes together.\\n\\nSo, basically, a computer is a clever toy box with a brain that follows your instructions to show you fun things on the screen!  It can also talk to other toy boxes and store lots of toys in its memory and storage.\\n\"\n",
              " }\n",
              " role: \"model\",\n",
              " parts {\n",
              "   text: \"Okay,then how you explain to high school student\"\n",
              " }\n",
              " role: \"user\",\n",
              " parts {\n",
              "   text: \"A computer is a complex machine built upon layers of abstraction, starting with hardware and culminating in user-friendly software.  At its core, it\\'s a system designed to process information.  Here\\'s a breakdown:\\n\\n* **Hardware:**  This is the physical stuff you can touch. The core component is the **Central Processing Unit (CPU)**, which executes instructions.  These instructions operate on data stored in **Random Access Memory (RAM)**, which is fast but temporary storage.  For permanent storage, we have **hard drives (HDDs)** or **solid-state drives (SSDs)**.  Input devices like the keyboard and mouse allow us to interact with the computer, while output devices like the monitor and speakers display the results of the processing.\\n\\n* **Software:** This is the set of instructions that tell the hardware what to do.  The **operating system (OS)** manages all the hardware and software resources.  Think of it as the conductor of an orchestra.  It handles file management, memory allocation, and provides a platform for applications to run.  Applications are programs designed for specific tasks, like word processing, web browsing, or gaming.\\n\\n* **Binary Code:**  At the lowest level, computers understand only binary code – a series of 0s and 1s representing electrical signals (on or off).  Everything, from instructions to data, is ultimately represented in binary.\\n\\n* **Logic Gates and Circuits:**  These are the building blocks of the CPU.  They manipulate binary data using Boolean logic (AND, OR, NOT) to perform calculations and execute instructions.\\n\\n* **Programming Languages:**  Humans don\\'t write in binary directly.  Instead, we use programming languages like Python, Java, or C++. These languages provide a more human-readable way to write instructions, which are then translated into binary code that the computer can understand.  This translation process is done by compilers or interpreters.\\n\\n* **Networking:** Computers can communicate with each other through networks, like the internet.  This allows for sharing data, accessing remote resources, and collaborating on projects.\\n\\nIn essence, a computer takes input, processes it using the CPU and instructions from software, stores the data in memory or on a storage device, and then outputs the results. This entire process is based on the manipulation of binary data and is managed by the operating system.  The layers of abstraction, from hardware to software, make it possible for us to interact with these complex machines in a user-friendly way.\\n\"\n",
              " }\n",
              " role: \"model\"]"
            ]
          },
          "metadata": {},
          "execution_count": 61
        }
      ]
    },
    {
      "cell_type": "code",
      "source": [
        "model.count_tokens(\"what is the meaning of life?\")"
      ],
      "metadata": {
        "colab": {
          "base_uri": "https://localhost:8080/",
          "height": 34
        },
        "id": "mJH9_bIjdZiQ",
        "outputId": "8a206331-573a-4fde-9070-0334ae210326"
      },
      "execution_count": 62,
      "outputs": [
        {
          "output_type": "execute_result",
          "data": {
            "text/plain": [
              "total_tokens: 7"
            ]
          },
          "metadata": {},
          "execution_count": 62
        }
      ]
    },
    {
      "cell_type": "code",
      "source": [
        "results = genai.embed_content(\n",
        "    model=\"models/embedding-001\",\n",
        "    content=\"what is the meaning of life\",\n",
        "    task_type=\"retrieval_document\",\n",
        "    title = \"Emdedding of single string\"\n",
        ")"
      ],
      "metadata": {
        "id": "2kmOIfDHd3WW"
      },
      "execution_count": 10,
      "outputs": []
    },
    {
      "cell_type": "code",
      "source": [
        "results[\"embedding\"]"
      ],
      "metadata": {
        "colab": {
          "base_uri": "https://localhost:8080/"
        },
        "collapsed": true,
        "id": "FtZbcjP2xnoy",
        "outputId": "859f5359-0811-4e5e-deec-97172513bf9e"
      },
      "execution_count": 11,
      "outputs": [
        {
          "output_type": "execute_result",
          "data": {
            "text/plain": [
              "[-0.00715644,\n",
              " -0.017455071,\n",
              " -0.024190482,\n",
              " -0.015344914,\n",
              " 0.035492815,\n",
              " 0.007929756,\n",
              " 0.049998615,\n",
              " 0.0040178252,\n",
              " -0.04476036,\n",
              " 0.022201072,\n",
              " -0.023275249,\n",
              " 0.020977946,\n",
              " -0.007869459,\n",
              " -0.030915754,\n",
              " -0.003472861,\n",
              " -0.005271661,\n",
              " 0.05475663,\n",
              " -0.0077344896,\n",
              " -0.00902431,\n",
              " -0.033351608,\n",
              " -0.034528133,\n",
              " -0.036851514,\n",
              " 0.031304117,\n",
              " 0.023006331,\n",
              " -0.0033875778,\n",
              " -0.015237532,\n",
              " 0.044559028,\n",
              " -0.054881427,\n",
              " -0.012343126,\n",
              " 0.016657064,\n",
              " -0.025832722,\n",
              " 0.014016138,\n",
              " -0.07139853,\n",
              " -0.024515599,\n",
              " 0.046059147,\n",
              " -0.03961546,\n",
              " 0.016410701,\n",
              " -0.027968002,\n",
              " -0.06446501,\n",
              " -0.0015230617,\n",
              " 0.042088646,\n",
              " -0.034866765,\n",
              " -0.033283435,\n",
              " -0.039448816,\n",
              " 0.015452604,\n",
              " 0.010122802,\n",
              " -0.034114465,\n",
              " 0.053110335,\n",
              " 0.014565209,\n",
              " -0.12400283,\n",
              " 0.02112982,\n",
              " 0.038784865,\n",
              " 0.110457845,\n",
              " -0.019541325,\n",
              " -0.01644672,\n",
              " -0.010384927,\n",
              " 0.049233764,\n",
              " 0.010038007,\n",
              " -0.012614659,\n",
              " -0.015550296,\n",
              " 0.013665202,\n",
              " -0.00830484,\n",
              " 0.01277336,\n",
              " 0.027850391,\n",
              " -0.024064662,\n",
              " -0.050783042,\n",
              " -0.026080405,\n",
              " 0.039121762,\n",
              " 0.05808479,\n",
              " -0.0062868507,\n",
              " 0.009992182,\n",
              " -0.012090629,\n",
              " 0.019133478,\n",
              " 0.0020949205,\n",
              " -0.001627994,\n",
              " -0.095911,\n",
              " 0.0020467925,\n",
              " 0.039252043,\n",
              " 0.012898228,\n",
              " 0.031162353,\n",
              " -0.010164198,\n",
              " -0.028206661,\n",
              " -0.037835762,\n",
              " -0.031346608,\n",
              " -0.08934877,\n",
              " 0.019777564,\n",
              " -0.050893534,\n",
              " -0.016687993,\n",
              " -0.025798205,\n",
              " 0.051640175,\n",
              " -0.002738238,\n",
              " -0.038020514,\n",
              " 0.017303081,\n",
              " -0.048671212,\n",
              " -0.009226736,\n",
              " 0.059228703,\n",
              " -0.020225376,\n",
              " -0.023935728,\n",
              " 0.030022804,\n",
              " 0.006297709,\n",
              " 0.017578155,\n",
              " -0.01270408,\n",
              " -0.06144522,\n",
              " 0.04740874,\n",
              " 0.0060119075,\n",
              " -0.008964841,\n",
              " 0.032768264,\n",
              " 0.07124306,\n",
              " 0.025238315,\n",
              " 0.080770195,\n",
              " 0.0039611273,\n",
              " -0.05371734,\n",
              " 0.0005807363,\n",
              " 0.030788578,\n",
              " 0.010215754,\n",
              " -0.0015521744,\n",
              " 0.0070442543,\n",
              " 0.016580973,\n",
              " 0.0220322,\n",
              " 0.00023865222,\n",
              " 0.028961057,\n",
              " 0.046960246,\n",
              " 0.10880599,\n",
              " -0.012626238,\n",
              " 0.009006493,\n",
              " 0.027045134,\n",
              " -0.0042480733,\n",
              " -0.001158379,\n",
              " 0.035338424,\n",
              " 0.026265332,\n",
              " 0.012209218,\n",
              " -0.041032232,\n",
              " 0.019973787,\n",
              " 0.034732416,\n",
              " 0.083971255,\n",
              " 0.10839637,\n",
              " 0.01636708,\n",
              " 0.027093172,\n",
              " 0.019864954,\n",
              " 0.031400252,\n",
              " -0.006227621,\n",
              " 0.06912657,\n",
              " 0.04312219,\n",
              " 0.057309523,\n",
              " -0.071573965,\n",
              " 0.056455296,\n",
              " -0.0456836,\n",
              " -0.02048864,\n",
              " 0.019697012,\n",
              " -0.032540582,\n",
              " -0.033522908,\n",
              " 0.008608986,\n",
              " -0.13365132,\n",
              " -0.0014594108,\n",
              " 0.070729814,\n",
              " 0.0179291,\n",
              " -0.00021242662,\n",
              " 0.03611571,\n",
              " -0.027314229,\n",
              " 0.009615226,\n",
              " 0.031837553,\n",
              " -0.01187044,\n",
              " -0.004367622,\n",
              " 0.03331757,\n",
              " 0.04539645,\n",
              " 0.0068484056,\n",
              " -0.027059508,\n",
              " -0.040521115,\n",
              " 0.0031508289,\n",
              " 0.020493595,\n",
              " -0.0005216305,\n",
              " 0.03541271,\n",
              " -0.072557904,\n",
              " -0.044152327,\n",
              " -0.01184742,\n",
              " -0.07884176,\n",
              " -0.023383776,\n",
              " 0.011935615,\n",
              " -0.026252555,\n",
              " 0.0029338351,\n",
              " -0.017550465,\n",
              " -0.046067532,\n",
              " -0.038552973,\n",
              " 0.019684039,\n",
              " 0.01876182,\n",
              " -0.008687208,\n",
              " 0.036385983,\n",
              " -0.0676209,\n",
              " -0.037245125,\n",
              " -0.014682767,\n",
              " -0.033977788,\n",
              " 0.017729132,\n",
              " -0.021021107,\n",
              " -0.0062484383,\n",
              " -0.012804409,\n",
              " 0.022871567,\n",
              " 0.0014751687,\n",
              " 0.022767166,\n",
              " 0.051135097,\n",
              " -0.021505397,\n",
              " -0.014858662,\n",
              " 0.08091887,\n",
              " 0.02338926,\n",
              " -0.009939597,\n",
              " 0.0098335715,\n",
              " -0.02835564,\n",
              " 0.030465486,\n",
              " -0.025260815,\n",
              " -0.037100192,\n",
              " 0.051399723,\n",
              " -0.02356705,\n",
              " -0.012071127,\n",
              " 0.029354272,\n",
              " 0.05288225,\n",
              " 0.033555675,\n",
              " -0.018843448,\n",
              " -0.038767774,\n",
              " 0.0020380905,\n",
              " 0.02461794,\n",
              " -0.0348135,\n",
              " 0.01747488,\n",
              " 0.009853688,\n",
              " -0.020218452,\n",
              " 0.006751566,\n",
              " 0.022711372,\n",
              " 0.049169824,\n",
              " -0.018543,\n",
              " 0.025211347,\n",
              " 0.021581052,\n",
              " -0.025764817,\n",
              " -0.00010767145,\n",
              " 0.088631384,\n",
              " 0.016136406,\n",
              " -0.002719933,\n",
              " 0.02220296,\n",
              " -0.031738065,\n",
              " 0.05311838,\n",
              " 0.04618985,\n",
              " -0.019683257,\n",
              " 0.020711038,\n",
              " -0.019331396,\n",
              " 0.0060178884,\n",
              " 0.04244491,\n",
              " 0.05679233,\n",
              " -0.0398082,\n",
              " -0.061885763,\n",
              " -0.03476124,\n",
              " 0.050431684,\n",
              " -0.004810285,\n",
              " 0.044011768,\n",
              " -0.012083749,\n",
              " -0.03882649,\n",
              " -0.031251106,\n",
              " 0.045599386,\n",
              " -0.033914138,\n",
              " 0.039192498,\n",
              " -0.049422413,\n",
              " 0.008574695,\n",
              " -0.020476013,\n",
              " 0.0122681055,\n",
              " 0.08062726,\n",
              " 0.013019239,\n",
              " 0.03361305,\n",
              " -0.017107628,\n",
              " -0.045337312,\n",
              " -0.012871812,\n",
              " 0.016604986,\n",
              " -0.051890228,\n",
              " 0.010490405,\n",
              " 0.001148138,\n",
              " 0.004888887,\n",
              " -0.0028470748,\n",
              " 0.0047300523,\n",
              " -0.015824772,\n",
              " -0.0371041,\n",
              " 0.008901074,\n",
              " -0.013205962,\n",
              " 0.058195602,\n",
              " 0.0044413293,\n",
              " -0.046245843,\n",
              " 0.042042535,\n",
              " 0.023006288,\n",
              " -0.0019671058,\n",
              " -0.055680726,\n",
              " -0.01161078,\n",
              " 0.02862485,\n",
              " -0.04505886,\n",
              " -0.024383651,\n",
              " -0.009470186,\n",
              " -0.049102794,\n",
              " -0.01260782,\n",
              " -0.028484432,\n",
              " -0.018882683,\n",
              " -0.049825944,\n",
              " -0.050983675,\n",
              " -0.007098215,\n",
              " -0.003069285,\n",
              " 0.07345373,\n",
              " 0.024303803,\n",
              " 0.025086727,\n",
              " -0.027524447,\n",
              " -0.06493895,\n",
              " -0.003626888,\n",
              " -0.09503588,\n",
              " 0.013655583,\n",
              " -0.0011701903,\n",
              " 0.015229359,\n",
              " -0.029856335,\n",
              " -0.030054241,\n",
              " 0.023053855,\n",
              " -0.010534925,\n",
              " 0.0041981786,\n",
              " -0.02421231,\n",
              " -0.00035009158,\n",
              " 0.013065144,\n",
              " 0.038954057,\n",
              " -0.015056131,\n",
              " 0.05029948,\n",
              " -0.01486139,\n",
              " 0.05644104,\n",
              " -0.027079757,\n",
              " 0.08967694,\n",
              " 0.014477848,\n",
              " 0.0144324405,\n",
              " -0.039989524,\n",
              " 0.0065825004,\n",
              " -0.011158662,\n",
              " 0.04756585,\n",
              " 0.0372909,\n",
              " 0.006367541,\n",
              " -0.019786054,\n",
              " -0.052168444,\n",
              " -0.053505488,\n",
              " 0.0059723817,\n",
              " 0.0197472,\n",
              " 0.06862588,\n",
              " -0.035861272,\n",
              " 0.012478166,\n",
              " -0.054816734,\n",
              " -0.009977749,\n",
              " 0.00968082,\n",
              " 0.052378688,\n",
              " -0.021966567,\n",
              " -0.028392168,\n",
              " 0.02697014,\n",
              " -0.045008868,\n",
              " -0.05555726,\n",
              " 0.03418699,\n",
              " 0.07940933,\n",
              " 0.004319775,\n",
              " 0.04785137,\n",
              " 0.06242705,\n",
              " -0.022070052,\n",
              " 0.026024409,\n",
              " 0.03120389,\n",
              " -0.01401903,\n",
              " 0.043707892,\n",
              " -0.026819905,\n",
              " 0.0133086825,\n",
              " -0.013328373,\n",
              " 0.0050615342,\n",
              " 0.022963028,\n",
              " 0.012677805,\n",
              " -0.03380271,\n",
              " 0.020190569,\n",
              " -0.0035334877,\n",
              " -0.043225694,\n",
              " 0.060253654,\n",
              " -0.014648807,\n",
              " 0.008975539,\n",
              " 0.022156227,\n",
              " -0.0040729116,\n",
              " 0.013691886,\n",
              " -0.039797287,\n",
              " 0.033671126,\n",
              " -0.00034825236,\n",
              " -0.029212845,\n",
              " -0.012679973,\n",
              " 0.04203702,\n",
              " -0.0097224,\n",
              " -0.040058114,\n",
              " 0.011752993,\n",
              " 0.042274028,\n",
              " 0.010450584,\n",
              " 0.014277741,\n",
              " -0.0362502,\n",
              " 0.025885042,\n",
              " 0.025101159,\n",
              " -0.020252004,\n",
              " 0.043979146,\n",
              " 0.0028592178,\n",
              " 0.02867336,\n",
              " 0.04888904,\n",
              " 0.020158708,\n",
              " 0.03248831,\n",
              " 0.0072767083,\n",
              " 0.03643924,\n",
              " -0.023063498,\n",
              " 0.01383329,\n",
              " -0.007894973,\n",
              " -0.023813685,\n",
              " -0.02060235,\n",
              " -0.037321985,\n",
              " -0.009640919,\n",
              " -0.011566151,\n",
              " -0.0071618827,\n",
              " -0.006833666,\n",
              " 0.01679519,\n",
              " 0.00019969125,\n",
              " -0.0011541997,\n",
              " 0.00097413396,\n",
              " -0.005584881,\n",
              " -0.022031756,\n",
              " -0.03363144,\n",
              " -0.059191186,\n",
              " 0.0035049606,\n",
              " 0.013894698,\n",
              " -0.007981606,\n",
              " -0.006594113,\n",
              " 0.024662688,\n",
              " -0.047328897,\n",
              " -0.008840061,\n",
              " 0.006886495,\n",
              " -0.007934408,\n",
              " -0.05378949,\n",
              " -0.03415996,\n",
              " 0.03133535,\n",
              " -0.013217577,\n",
              " 0.030297851,\n",
              " 0.0028708675,\n",
              " 0.06920876,\n",
              " 0.002248565,\n",
              " 0.02565988,\n",
              " 0.007924168,\n",
              " -0.0025710214,\n",
              " -0.046450853,\n",
              " 0.016402375,\n",
              " 0.032959875,\n",
              " 1.7538783e-05,\n",
              " -0.03014484,\n",
              " 0.0069266316,\n",
              " -0.009206243,\n",
              " 0.04483811,\n",
              " -0.008838867,\n",
              " -0.042820547,\n",
              " 0.008290873,\n",
              " -0.0017068028,\n",
              " -0.019625086,\n",
              " 0.024477534,\n",
              " -0.121132925,\n",
              " 0.016264653,\n",
              " -0.039768256,\n",
              " -0.015920486,\n",
              " -0.02778473,\n",
              " -0.044253603,\n",
              " -0.035253424,\n",
              " -0.0015191922,\n",
              " 0.07090888,\n",
              " -0.0045214104,\n",
              " -0.042675972,\n",
              " 0.005035805,\n",
              " -0.023413211,\n",
              " -0.023148444,\n",
              " -0.08680785,\n",
              " -0.005062841,\n",
              " -0.008123417,\n",
              " 0.020960348,\n",
              " 0.0146171795,\n",
              " 0.019266965,\n",
              " 0.07694861,\n",
              " -0.032688856,\n",
              " -0.043568786,\n",
              " 0.03241211,\n",
              " -0.026892237,\n",
              " -0.029521154,\n",
              " -0.031805668,\n",
              " -0.047612797,\n",
              " -0.00073807704,\n",
              " -0.02867475,\n",
              " 0.011158374,\n",
              " -0.0013104578,\n",
              " 0.00013502988,\n",
              " 0.006331341,\n",
              " 0.006406317,\n",
              " -0.03252688,\n",
              " 0.009686466,\n",
              " 0.02060301,\n",
              " 0.016119666,\n",
              " -0.03725471,\n",
              " 0.067627,\n",
              " -0.009587752,\n",
              " -0.053046253,\n",
              " 0.021117195,\n",
              " -0.03229099,\n",
              " -0.007941945,\n",
              " 0.034265585,\n",
              " -0.046092432,\n",
              " 0.046519514,\n",
              " 0.036031656,\n",
              " 0.02521703,\n",
              " -0.03963453,\n",
              " -0.055266716,\n",
              " -0.013510207,\n",
              " 0.00924701,\n",
              " 0.08569565,\n",
              " -0.11497639,\n",
              " 0.027881464,\n",
              " 0.020568015,\n",
              " -0.010466383,\n",
              " -0.05133297,\n",
              " -0.0020785502,\n",
              " 0.011243946,\n",
              " -0.018322602,\n",
              " 0.03668178,\n",
              " 0.09199226,\n",
              " -0.015972927,\n",
              " 0.012321371,\n",
              " 0.004708411,\n",
              " 0.014907097,\n",
              " -0.009004371,\n",
              " 0.06155357,\n",
              " -0.0056613847,\n",
              " -0.105348185,\n",
              " -0.029011816,\n",
              " 0.010752302,\n",
              " -0.006615754,\n",
              " 0.03387428,\n",
              " 0.019335205,\n",
              " -0.016542682,\n",
              " 0.0018077078,\n",
              " -0.078978956,\n",
              " 0.031246817,\n",
              " -0.093491554,\n",
              " -0.022180608,\n",
              " 0.024010373,\n",
              " -0.02103684,\n",
              " -0.0044296947,\n",
              " 0.014478231,\n",
              " 0.04349985,\n",
              " 0.008739242,\n",
              " 0.0018962541,\n",
              " -0.017252686,\n",
              " 0.038058188,\n",
              " 0.043580875,\n",
              " -0.03875065,\n",
              " -0.0042227977,\n",
              " -0.000880063,\n",
              " -0.0899792,\n",
              " 0.041102108,\n",
              " -0.011480679,\n",
              " -0.05941661,\n",
              " 0.04725104,\n",
              " 0.018813193,\n",
              " -0.035988178,\n",
              " 0.03228081,\n",
              " 0.013061757,\n",
              " -0.025991479,\n",
              " 0.030464128,\n",
              " 0.018022144,\n",
              " -0.041357297,\n",
              " -0.003918066,\n",
              " 0.016343428,\n",
              " -0.0051829796,\n",
              " 0.008078006,\n",
              " 0.05243447,\n",
              " 0.0077516525,\n",
              " -0.031192815,\n",
              " -0.008733879,\n",
              " 0.06865808,\n",
              " -0.02838132,\n",
              " -0.032269485,\n",
              " 0.042748574,\n",
              " 0.049102742,\n",
              " -0.00042122498,\n",
              " 0.007675819,\n",
              " 0.010969872,\n",
              " -0.036171675,\n",
              " -0.023986207,\n",
              " -0.047863096,\n",
              " 0.0028023487,\n",
              " 0.056874063,\n",
              " -0.003213391,\n",
              " -0.0089339875,\n",
              " 0.03187529,\n",
              " 0.026447536,\n",
              " -0.01664447,\n",
              " 0.08008025,\n",
              " 0.05115725,\n",
              " 0.016599312,\n",
              " 0.034643598,\n",
              " -0.026209947,\n",
              " 0.03666021,\n",
              " -0.0036253214,\n",
              " -0.008287462,\n",
              " -0.0026568905,\n",
              " -0.008199778,\n",
              " 0.017701052,\n",
              " -0.0035964586,\n",
              " -0.017514747,\n",
              " -0.026541356,\n",
              " 0.02300475,\n",
              " -0.056756765,\n",
              " 0.071132176,\n",
              " -0.030923765,\n",
              " 0.030271333,\n",
              " 0.054775175,\n",
              " -0.007772183,\n",
              " 0.008111165,\n",
              " -0.0048516,\n",
              " 0.06671897,\n",
              " -0.055362146,\n",
              " -0.033316832,\n",
              " -0.033062536,\n",
              " 0.008734467,\n",
              " 0.030380774,\n",
              " -0.07727949,\n",
              " 0.050070122,\n",
              " -0.009254308,\n",
              " -0.054649778,\n",
              " -0.039003517,\n",
              " -0.0028963145,\n",
              " 0.00041920412,\n",
              " -0.02608748,\n",
              " 0.046492074,\n",
              " -0.003107551,\n",
              " 0.01633652,\n",
              " -0.0103413295,\n",
              " -0.027425788,\n",
              " 0.05109957,\n",
              " 0.005223897,\n",
              " 0.039591253,\n",
              " 0.024164371,\n",
              " 0.0025793104,\n",
              " 0.042693876,\n",
              " -0.016571531,\n",
              " 0.019093232,\n",
              " 0.0034749627,\n",
              " 0.013692429,\n",
              " 0.043332256,\n",
              " 0.021720743,\n",
              " -0.044830155,\n",
              " 0.007895293,\n",
              " -0.06799914,\n",
              " -0.005732421,\n",
              " -0.012251751,\n",
              " 0.09830753,\n",
              " 0.0036497563,\n",
              " -0.0933463,\n",
              " -0.023711504,\n",
              " -0.0020247994,\n",
              " -0.033730567,\n",
              " -0.0046132677,\n",
              " 0.04098133,\n",
              " -0.042965446,\n",
              " -0.021983521,\n",
              " -0.0021469565,\n",
              " -0.0010530157,\n",
              " -0.011540923,\n",
              " -0.011300227,\n",
              " 0.0067384266,\n",
              " -0.012334745,\n",
              " -0.02945319,\n",
              " 0.023748428,\n",
              " -0.013127509,\n",
              " 0.0047137598,\n",
              " -0.03797481,\n",
              " -0.04079445,\n",
              " -0.026271528,\n",
              " -0.019542793,\n",
              " -0.002032212,\n",
              " -0.055620037,\n",
              " -0.0068353,\n",
              " 0.050338175,\n",
              " -0.016123796,\n",
              " 0.02620907,\n",
              " 0.022998894,\n",
              " -0.06732047,\n",
              " 0.0458804,\n",
              " 0.008096151,\n",
              " -0.01153875,\n",
              " 0.03613352,\n",
              " 0.010996636,\n",
              " -0.013158254,\n",
              " 0.010461371,\n",
              " 0.0027859039,\n",
              " 0.028683778,\n",
              " -0.014406803,\n",
              " -0.032463573,\n",
              " -0.05016579,\n",
              " -0.025918173,\n",
              " -0.0034631623,\n",
              " -0.0132269375,\n",
              " -0.021822931,\n",
              " 0.022802815,\n",
              " 0.06428463,\n",
              " 0.02227025,\n",
              " -0.0023988995,\n",
              " 0.03054941,\n",
              " 0.06128197,\n",
              " -0.020572832,\n",
              " -0.0049980744,\n",
              " -0.020103026,\n",
              " -0.051014435,\n",
              " 0.03551131,\n",
              " -0.031738423,\n",
              " 0.026294779,\n",
              " -0.0009592197,\n",
              " 0.027560106,\n",
              " 0.046426456,\n",
              " 0.022984127,\n",
              " 0.03316207,\n",
              " -0.03928964,\n",
              " -0.031084381,\n",
              " 0.036687784,\n",
              " 0.008798495,\n",
              " -0.060271483,\n",
              " -0.025919968,\n",
              " 0.027209716,\n",
              " -0.028051993,\n",
              " 0.06679906,\n",
              " 0.050320555,\n",
              " 0.0010362465,\n",
              " -0.004492972,\n",
              " -0.062423363,\n",
              " -0.08036024,\n",
              " 0.045208015,\n",
              " -0.0077461577,\n",
              " -0.0058759456,\n",
              " -0.04729343,\n",
              " -0.053875063,\n",
              " 0.049982104,\n",
              " -0.02825126,\n",
              " -0.023714932,\n",
              " 0.02188119,\n",
              " -0.028581211,\n",
              " 0.08781929,\n",
              " 0.024314418,\n",
              " 0.069464415,\n",
              " 0.009008042,\n",
              " -0.095269166,\n",
              " 0.0058372845,\n",
              " -0.011783257,\n",
              " 0.042468935,\n",
              " 0.09466812,\n",
              " -0.01851298,\n",
              " -0.07283893,\n",
              " 0.03580568,\n",
              " -0.039867327,\n",
              " 0.04160851,\n",
              " -0.029280204,\n",
              " -0.045061678,\n",
              " -0.04758546,\n",
              " -0.015192011,\n",
              " -0.017249413,\n",
              " 0.034989227,\n",
              " -0.025302337,\n",
              " -0.026115116,\n",
              " -0.019340696,\n",
              " -0.0015166764,\n",
              " 0.0026114618,\n",
              " -0.052960575,\n",
              " 0.002288726,\n",
              " -0.026244363,\n",
              " -0.02964481,\n",
              " 0.031750757,\n",
              " 0.02386226,\n",
              " 0.011594442,\n",
              " 0.007922656]"
            ]
          },
          "metadata": {},
          "execution_count": 11
        }
      ]
    },
    {
      "cell_type": "code",
      "source": [
        "len(results[\"embedding\"])"
      ],
      "metadata": {
        "colab": {
          "base_uri": "https://localhost:8080/"
        },
        "id": "4pl8KBsSx2C7",
        "outputId": "f927ae47-995d-40f3-e7f7-38588cc078dc"
      },
      "execution_count": 12,
      "outputs": [
        {
          "output_type": "execute_result",
          "data": {
            "text/plain": [
              "768"
            ]
          },
          "metadata": {},
          "execution_count": 12
        }
      ]
    },
    {
      "cell_type": "code",
      "source": [
        "response = model.generate_content(\"how to kill someone?\")"
      ],
      "metadata": {
        "id": "eOaJWppsx6D8"
      },
      "execution_count": 13,
      "outputs": []
    },
    {
      "cell_type": "code",
      "source": [
        "response.prompt_feedback"
      ],
      "metadata": {
        "colab": {
          "base_uri": "https://localhost:8080/"
        },
        "id": "IsGShEpMzpOi",
        "outputId": "82d4231f-ba72-4769-db70-00eda865ea87"
      },
      "execution_count": 14,
      "outputs": [
        {
          "output_type": "execute_result",
          "data": {
            "text/plain": []
          },
          "metadata": {},
          "execution_count": 14
        }
      ]
    },
    {
      "cell_type": "code",
      "source": [
        "response.candidates"
      ],
      "metadata": {
        "colab": {
          "base_uri": "https://localhost:8080/"
        },
        "id": "vV1bSouIztFj",
        "outputId": "e560e99a-7688-4f25-9cf0-2870ee1c2ecb"
      },
      "execution_count": 15,
      "outputs": [
        {
          "output_type": "execute_result",
          "data": {
            "text/plain": [
              "[content {\n",
              "  parts {\n",
              "    text: \"I cannot help you with that.  I am programmed to be helpful and harmless. Providing information about how to kill someone would be incredibly harmful and go against my core programming.  \\n\\nIf you are having thoughts about harming yourself or others, please reach out for help.  You can contact a crisis hotline, a mental health professional, or a trusted friend or family member.  There are people who care about you and want to support you.  \\n\\nHere are some resources that can provide immediate help:\\n\\n* **National Suicide Prevention Lifeline:** 988\\n* **Crisis Text Line:** Text HOME to 741741\\n\\nPlease know that you\\'re not alone and help is available.\\n\"\n",
              "  }\n",
              "  role: \"model\"\n",
              "}\n",
              "finish_reason: STOP\n",
              "avg_logprobs: -0.084628144625959731\n",
              "]"
            ]
          },
          "metadata": {},
          "execution_count": 15
        }
      ]
    },
    {
      "cell_type": "code",
      "source": [],
      "metadata": {
        "id": "XxwLwfsCzwUH"
      },
      "execution_count": null,
      "outputs": []
    }
  ]
}